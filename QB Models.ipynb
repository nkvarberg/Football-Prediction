{
 "cells": [
  {
   "cell_type": "markdown",
   "metadata": {},
   "source": [
    "**Models**"
   ]
  },
  {
   "cell_type": "markdown",
   "metadata": {},
   "source": [
    "**Quarter Back**"
   ]
  },
  {
   "cell_type": "code",
   "execution_count": 6,
   "metadata": {},
   "outputs": [],
   "source": [
    "import pandas as pd\n",
    "import numpy as np\n",
    "from sklearn.linear_model import LinearRegression\n",
    "from sklearn.metrics import mean_absolute_error\n",
    "from sklearn.metrics import mean_squared_error\n",
    "from statsmodels.tsa.arima_model import ARMA\n",
    "from sklearn.preprocessing import StandardScaler\n",
    "from sklearn.linear_model import LinearRegression\n",
    "from sklearn.ensemble import RandomForestRegressor\n",
    "import matplotlib.pyplot as plt\n",
    "%matplotlib inline\n",
    "pd.set_option('display.max_columns', 50)"
   ]
  },
  {
   "cell_type": "code",
   "execution_count": 7,
   "metadata": {},
   "outputs": [],
   "source": [
    "all_games = pd.read_csv('nfl-football-player-stats/games_1995.csv')\n",
    "all_games.drop([440917], inplace=True) # delete weird Lagerrete Blount double game\n",
    "all_games.loc[all_games['team'] == 'SDG', 'team'] = 'LAC'\n",
    "all_games.loc[all_games['team'] == 'STL', 'team'] = 'LAR'\n",
    "all_games.loc[all_games['opponent'] == 'SDG', 'opponent'] = 'LAC'\n",
    "all_games.loc[all_games['opponent'] == 'STL', 'opponent'] = 'LAR'\n",
    "all_games = all_games.set_index('player_id')\n",
    "all_players = pd.read_csv('nfl-football-player-stats/players_1995.csv',index_col='player_id')"
   ]
  },
  {
   "cell_type": "code",
   "execution_count": 22,
   "metadata": {
    "scrolled": false
   },
   "outputs": [],
   "source": [
    "data = pd.read_csv('qbs_2014_2017.csv', index_col='player_id')\n",
    "data = data.drop(columns=['ewma_receiving_targets'])\n",
    "data = data.fillna(0)"
   ]
  },
  {
   "cell_type": "code",
   "execution_count": 24,
   "metadata": {},
   "outputs": [
    {
     "name": "stderr",
     "output_type": "stream",
     "text": [
      "C:\\Users\\Chloe\\Anaconda3\\lib\\site-packages\\ipykernel_launcher.py:25: DataConversionWarning: A column-vector y was passed when a 1d array was expected. Please change the shape of y to (n_samples,), for example using ravel().\n",
      "C:\\Users\\Chloe\\Anaconda3\\lib\\site-packages\\ipykernel_launcher.py:25: DataConversionWarning: A column-vector y was passed when a 1d array was expected. Please change the shape of y to (n_samples,), for example using ravel().\n",
      "C:\\Users\\Chloe\\Anaconda3\\lib\\site-packages\\ipykernel_launcher.py:25: DataConversionWarning: A column-vector y was passed when a 1d array was expected. Please change the shape of y to (n_samples,), for example using ravel().\n",
      "C:\\Users\\Chloe\\Anaconda3\\lib\\site-packages\\ipykernel_launcher.py:25: DataConversionWarning: A column-vector y was passed when a 1d array was expected. Please change the shape of y to (n_samples,), for example using ravel().\n",
      "C:\\Users\\Chloe\\Anaconda3\\lib\\site-packages\\ipykernel_launcher.py:25: DataConversionWarning: A column-vector y was passed when a 1d array was expected. Please change the shape of y to (n_samples,), for example using ravel().\n",
      "C:\\Users\\Chloe\\Anaconda3\\lib\\site-packages\\ipykernel_launcher.py:25: DataConversionWarning: A column-vector y was passed when a 1d array was expected. Please change the shape of y to (n_samples,), for example using ravel().\n",
      "C:\\Users\\Chloe\\Anaconda3\\lib\\site-packages\\ipykernel_launcher.py:25: DataConversionWarning: A column-vector y was passed when a 1d array was expected. Please change the shape of y to (n_samples,), for example using ravel().\n",
      "C:\\Users\\Chloe\\Anaconda3\\lib\\site-packages\\ipykernel_launcher.py:25: DataConversionWarning: A column-vector y was passed when a 1d array was expected. Please change the shape of y to (n_samples,), for example using ravel().\n",
      "C:\\Users\\Chloe\\Anaconda3\\lib\\site-packages\\ipykernel_launcher.py:25: DataConversionWarning: A column-vector y was passed when a 1d array was expected. Please change the shape of y to (n_samples,), for example using ravel().\n",
      "C:\\Users\\Chloe\\Anaconda3\\lib\\site-packages\\ipykernel_launcher.py:25: DataConversionWarning: A column-vector y was passed when a 1d array was expected. Please change the shape of y to (n_samples,), for example using ravel().\n",
      "C:\\Users\\Chloe\\Anaconda3\\lib\\site-packages\\ipykernel_launcher.py:25: DataConversionWarning: A column-vector y was passed when a 1d array was expected. Please change the shape of y to (n_samples,), for example using ravel().\n",
      "C:\\Users\\Chloe\\Anaconda3\\lib\\site-packages\\ipykernel_launcher.py:25: DataConversionWarning: A column-vector y was passed when a 1d array was expected. Please change the shape of y to (n_samples,), for example using ravel().\n",
      "C:\\Users\\Chloe\\Anaconda3\\lib\\site-packages\\ipykernel_launcher.py:25: DataConversionWarning: A column-vector y was passed when a 1d array was expected. Please change the shape of y to (n_samples,), for example using ravel().\n",
      "C:\\Users\\Chloe\\Anaconda3\\lib\\site-packages\\ipykernel_launcher.py:25: DataConversionWarning: A column-vector y was passed when a 1d array was expected. Please change the shape of y to (n_samples,), for example using ravel().\n",
      "C:\\Users\\Chloe\\Anaconda3\\lib\\site-packages\\ipykernel_launcher.py:25: DataConversionWarning: A column-vector y was passed when a 1d array was expected. Please change the shape of y to (n_samples,), for example using ravel().\n",
      "C:\\Users\\Chloe\\Anaconda3\\lib\\site-packages\\ipykernel_launcher.py:25: DataConversionWarning: A column-vector y was passed when a 1d array was expected. Please change the shape of y to (n_samples,), for example using ravel().\n",
      "C:\\Users\\Chloe\\Anaconda3\\lib\\site-packages\\ipykernel_launcher.py:25: DataConversionWarning: A column-vector y was passed when a 1d array was expected. Please change the shape of y to (n_samples,), for example using ravel().\n",
      "C:\\Users\\Chloe\\Anaconda3\\lib\\site-packages\\ipykernel_launcher.py:25: DataConversionWarning: A column-vector y was passed when a 1d array was expected. Please change the shape of y to (n_samples,), for example using ravel().\n",
      "C:\\Users\\Chloe\\Anaconda3\\lib\\site-packages\\ipykernel_launcher.py:25: DataConversionWarning: A column-vector y was passed when a 1d array was expected. Please change the shape of y to (n_samples,), for example using ravel().\n",
      "C:\\Users\\Chloe\\Anaconda3\\lib\\site-packages\\ipykernel_launcher.py:25: DataConversionWarning: A column-vector y was passed when a 1d array was expected. Please change the shape of y to (n_samples,), for example using ravel().\n",
      "C:\\Users\\Chloe\\Anaconda3\\lib\\site-packages\\ipykernel_launcher.py:25: DataConversionWarning: A column-vector y was passed when a 1d array was expected. Please change the shape of y to (n_samples,), for example using ravel().\n",
      "C:\\Users\\Chloe\\Anaconda3\\lib\\site-packages\\ipykernel_launcher.py:25: DataConversionWarning: A column-vector y was passed when a 1d array was expected. Please change the shape of y to (n_samples,), for example using ravel().\n",
      "C:\\Users\\Chloe\\Anaconda3\\lib\\site-packages\\ipykernel_launcher.py:25: DataConversionWarning: A column-vector y was passed when a 1d array was expected. Please change the shape of y to (n_samples,), for example using ravel().\n",
      "C:\\Users\\Chloe\\Anaconda3\\lib\\site-packages\\ipykernel_launcher.py:25: DataConversionWarning: A column-vector y was passed when a 1d array was expected. Please change the shape of y to (n_samples,), for example using ravel().\n",
      "C:\\Users\\Chloe\\Anaconda3\\lib\\site-packages\\ipykernel_launcher.py:25: DataConversionWarning: A column-vector y was passed when a 1d array was expected. Please change the shape of y to (n_samples,), for example using ravel().\n"
     ]
    },
    {
     "name": "stdout",
     "output_type": "stream",
     "text": [
      "[428.36596954453535, 428.66470293933685, 427.34742194450234, 426.5034569280632, 426.8910188743402]\n",
      "[37.09588847583643, 37.0898215613383, 37.02797348203222, 36.965542432288906, 36.98859163568774]\n"
     ]
    }
   ],
   "source": [
    "# Tuning parameter for RF\n",
    "# 350 is best\n",
    "from sklearn.model_selection import KFold\n",
    "kf = KFold(n_splits=5, shuffle=True, random_state=3)\n",
    "\n",
    "#get 2014-2016\n",
    "features = ['log_draft_position','log_num_games','ewma_fpts','ewma_team_rush_attempts','ewma_team_rush_percentage','ewma_team_passing_rating','ewma_rushing_attempts','DY/P','TO']\n",
    "resp = ['next_fpts']\n",
    "trainX2016 = data.loc[data['year'] < 2017][features]\n",
    "trainy2016 = data.loc[data['year'] < 2017][resp]\n",
    "\n",
    "# re index\n",
    "trainX2016.reset_index(drop=True, inplace=True)\n",
    "trainy2016.reset_index(drop=True, inplace=True)\n",
    "\n",
    "range_est = [200,250,300,350,400]\n",
    "mses = [0,0,0,0,0]\n",
    "maes = [0,0,0,0,0]\n",
    "\n",
    "for train_index, test_index in kf.split(trainX2016):\n",
    "    X_train, X_test = trainX2016.iloc[train_index], trainX2016.iloc[test_index]\n",
    "    y_train, y_test = trainy2016.iloc[train_index], trainy2016.iloc[test_index]\n",
    "    for j in range(len(range_est)):\n",
    "        rf_model = RandomForestRegressor(n_estimators=range_est[j])\n",
    "        rf_model.fit(X_train, y_train)\n",
    "        preds = rf_model.predict(X_test)\n",
    "        mses[j] += mean_squared_error(y_test, preds)\n",
    "        maes[j] += mean_absolute_error(y_test, preds)\n",
    "print(mses)\n",
    "print(maes)"
   ]
  },
  {
   "cell_type": "code",
   "execution_count": 32,
   "metadata": {
    "scrolled": true
   },
   "outputs": [
    {
     "name": "stdout",
     "output_type": "stream",
     "text": [
      "1\n"
     ]
    },
    {
     "name": "stderr",
     "output_type": "stream",
     "text": [
      "C:\\Users\\Chloe\\Anaconda3\\lib\\site-packages\\ipykernel_launcher.py:65: DataConversionWarning: A column-vector y was passed when a 1d array was expected. Please change the shape of y to (n_samples,), for example using ravel().\n"
     ]
    },
    {
     "name": "stdout",
     "output_type": "stream",
     "text": [
      "2\n"
     ]
    },
    {
     "name": "stderr",
     "output_type": "stream",
     "text": [
      "C:\\Users\\Chloe\\Anaconda3\\lib\\site-packages\\ipykernel_launcher.py:65: DataConversionWarning: A column-vector y was passed when a 1d array was expected. Please change the shape of y to (n_samples,), for example using ravel().\n"
     ]
    },
    {
     "name": "stdout",
     "output_type": "stream",
     "text": [
      "3\n"
     ]
    },
    {
     "name": "stderr",
     "output_type": "stream",
     "text": [
      "C:\\Users\\Chloe\\Anaconda3\\lib\\site-packages\\ipykernel_launcher.py:65: DataConversionWarning: A column-vector y was passed when a 1d array was expected. Please change the shape of y to (n_samples,), for example using ravel().\n"
     ]
    },
    {
     "name": "stdout",
     "output_type": "stream",
     "text": [
      "4\n"
     ]
    },
    {
     "name": "stderr",
     "output_type": "stream",
     "text": [
      "C:\\Users\\Chloe\\Anaconda3\\lib\\site-packages\\ipykernel_launcher.py:65: DataConversionWarning: A column-vector y was passed when a 1d array was expected. Please change the shape of y to (n_samples,), for example using ravel().\n"
     ]
    },
    {
     "name": "stdout",
     "output_type": "stream",
     "text": [
      "5\n"
     ]
    },
    {
     "name": "stderr",
     "output_type": "stream",
     "text": [
      "C:\\Users\\Chloe\\Anaconda3\\lib\\site-packages\\ipykernel_launcher.py:65: DataConversionWarning: A column-vector y was passed when a 1d array was expected. Please change the shape of y to (n_samples,), for example using ravel().\n"
     ]
    },
    {
     "name": "stdout",
     "output_type": "stream",
     "text": [
      "6\n"
     ]
    },
    {
     "name": "stderr",
     "output_type": "stream",
     "text": [
      "C:\\Users\\Chloe\\Anaconda3\\lib\\site-packages\\ipykernel_launcher.py:65: DataConversionWarning: A column-vector y was passed when a 1d array was expected. Please change the shape of y to (n_samples,), for example using ravel().\n"
     ]
    },
    {
     "name": "stdout",
     "output_type": "stream",
     "text": [
      "7\n"
     ]
    },
    {
     "name": "stderr",
     "output_type": "stream",
     "text": [
      "C:\\Users\\Chloe\\Anaconda3\\lib\\site-packages\\ipykernel_launcher.py:65: DataConversionWarning: A column-vector y was passed when a 1d array was expected. Please change the shape of y to (n_samples,), for example using ravel().\n"
     ]
    },
    {
     "name": "stdout",
     "output_type": "stream",
     "text": [
      "8\n"
     ]
    },
    {
     "name": "stderr",
     "output_type": "stream",
     "text": [
      "C:\\Users\\Chloe\\Anaconda3\\lib\\site-packages\\ipykernel_launcher.py:65: DataConversionWarning: A column-vector y was passed when a 1d array was expected. Please change the shape of y to (n_samples,), for example using ravel().\n"
     ]
    },
    {
     "name": "stdout",
     "output_type": "stream",
     "text": [
      "9\n"
     ]
    },
    {
     "name": "stderr",
     "output_type": "stream",
     "text": [
      "C:\\Users\\Chloe\\Anaconda3\\lib\\site-packages\\ipykernel_launcher.py:65: DataConversionWarning: A column-vector y was passed when a 1d array was expected. Please change the shape of y to (n_samples,), for example using ravel().\n"
     ]
    },
    {
     "name": "stdout",
     "output_type": "stream",
     "text": [
      "10\n"
     ]
    },
    {
     "name": "stderr",
     "output_type": "stream",
     "text": [
      "C:\\Users\\Chloe\\Anaconda3\\lib\\site-packages\\ipykernel_launcher.py:65: DataConversionWarning: A column-vector y was passed when a 1d array was expected. Please change the shape of y to (n_samples,), for example using ravel().\n"
     ]
    }
   ],
   "source": [
    "# Training on the 2017 season\n",
    "MSEarma = []\n",
    "MAEarma = []\n",
    "MSElr = []\n",
    "MAElr = []\n",
    "MSErf = []\n",
    "MAErf = []\n",
    "MSEbase = []\n",
    "MAEbase = []\n",
    "\n",
    "for w in range(1,11):\n",
    "    print(w)\n",
    "    WEEK = w\n",
    "    POSITION = 'QB'\n",
    "    YEAR = 2017\n",
    "\n",
    "    features = ['log_draft_position','log_num_games','ewma_fpts','ewma_team_rush_attempts','ewma_team_rush_percentage','ewma_team_passing_rating','ewma_rushing_attempts','DY/P','TO']\n",
    "    resp = ['next_fpts']\n",
    "    X_train = data.loc[data['year'] < 2017][features]\n",
    "    X_traincurr = data.loc[(data['year'] == 2017) & (data['game_number'] < WEEK)][features]\n",
    "    if len(X_traincurr)>0:\n",
    "        X_train = X_train.append(X_traincurr)\n",
    "    y_train = data.loc[data['year'] < 2017][resp]\n",
    "    y_traincurr = data.loc[(data['year'] == 2017) & (data['game_number'] < WEEK)][resp]\n",
    "    if len(y_traincurr)>0:\n",
    "        y_train = y_train.append(y_traincurr) \n",
    "    X_test = data.loc[(data['year'] == 2017) & (data['game_number']==WEEK)][features]\n",
    "    y_test = data.loc[(data['year'] == 2017) & (data['game_number']==WEEK)][resp]\n",
    "\n",
    "    # Fitting models\n",
    "\n",
    "    # naive approach\n",
    "    preds = data.loc[(data['year'] == 2017) & (data['game_number']==WEEK)]['fpts']\n",
    "    MAEbase.append(mean_absolute_error(y_test, preds))\n",
    "    MSEbase.append(mean_squared_error(y_test, preds))\n",
    "\n",
    "    # ARMA\n",
    "    '''\n",
    "    players = get_players_thatweek(all_games, all_players, POSITION, YEAR, WEEK, subset_position)\n",
    "    X, resp = get_features_response_ARMA(players, all_games, YEAR, WEEK, half_ppr)\n",
    "    preds = []\n",
    "    for i in resp.index:\n",
    "        if type(X.loc[i]['fpts']) != np.float64:\n",
    "            past_fpts = X.loc[i]['fpts'].values\n",
    "            model = ARMA(past_fpts, (0,1))\n",
    "            model_fit = model.fit(disp=0)\n",
    "            preds.append(model_fit.forecast()[0][0])\n",
    "        else:\n",
    "            resp.drop([i],inplace=True)\n",
    "    MAEarma.append(mean_absolute_error(resp, preds))\n",
    "    MSEarma.append(mean_squared_error(resp, preds))\n",
    "    '''\n",
    "\n",
    "    # linear regression\n",
    "    XtrainS = StandardScaler().fit_transform(X_train)\n",
    "    XtestS = StandardScaler().fit_transform(X_test)\n",
    "    lr = LinearRegression()\n",
    "    lr.fit(XtrainS, y_train)\n",
    "    preds = lr.predict(XtestS)\n",
    "    MAElr.append(mean_absolute_error(y_test, preds))\n",
    "    MSElr.append(mean_squared_error(y_test, preds))\n",
    "\n",
    "    # random forest\n",
    "    rf = RandomForestRegressor(n_estimators = 350)\n",
    "    rf.fit(XtrainS, y_train)\n",
    "    preds = rf.predict(XtestS)\n",
    "    MAErf.append(mean_absolute_error(y_test, preds))\n",
    "    MSErf.append(mean_squared_error(y_test, preds))"
   ]
  },
  {
   "cell_type": "code",
   "execution_count": 34,
   "metadata": {},
   "outputs": [
    {
     "data": {
      "text/plain": [
       "0.07349988136136287"
      ]
     },
     "execution_count": 34,
     "metadata": {},
     "output_type": "execute_result"
    }
   ],
   "source": [
    "lr.score(XtestS, y_test)"
   ]
  },
  {
   "cell_type": "code",
   "execution_count": 35,
   "metadata": {
    "scrolled": true
   },
   "outputs": [
    {
     "name": "stdout",
     "output_type": "stream",
     "text": [
      "RF:  [6.72343842364532, 9.813516071428566, 7.779522580645162, 8.037599999999996, 7.005063265306116, 8.332163809523802, 6.37347724867724, 5.04791152073733, 7.244009523809528, 7.342687557603686]\n",
      "RF:  [64.38305182119636, 134.7139474996938, 95.87197450606976, 97.54607602982303, 78.43851932303205, 114.18612331863936, 66.35229114170816, 46.19011292060565, 80.29516105414973, 73.3809134681238]\n",
      "LR:  [6.087880384198846, 9.608470285437694, 7.765143893052526, 7.582211522994354, 6.583423385126266, 8.295633908433377, 5.886494613144179, 4.754244515909968, 6.879872643692284, 7.561012253995443]\n",
      "LR:  [54.3366303999155, 126.01249143890068, 92.02480021611306, 87.53372465521738, 71.29313780992773, 108.65506201698555, 58.111011234759545, 42.823750956501925, 73.54219427948877, 77.60635404490665]\n",
      "baseline:  [7.3227586206896556, 11.949375, 10.261935483870968, 7.898000000000001, 8.018571428571429, 10.053333333333335, 9.559259259259258, 7.185806451612903, 8.53, 9.04258064516129]\n",
      "baseline:  [88.31409655172415, 204.6613625, 171.04002580645167, 96.20846666666667, 115.25962857142858, 159.25562666666667, 128.75133333333332, 92.83997419354836, 112.66715999999998, 121.1145806451613]\n",
      "ARMA:  []\n",
      "ARMA:  []\n"
     ]
    }
   ],
   "source": [
    "print(\"RF: \",MAErf)\n",
    "print(\"RF: \", MSErf)\n",
    "print(\"LR: \",MAElr)\n",
    "print(\"LR: \", MSElr)\n",
    "print(\"baseline: \",MAEbase)\n",
    "print(\"baseline: \", MSEbase)\n",
    "print(\"ARMA: \",MAEarma)\n",
    "print('ARMA: ', MSEarma)"
   ]
  },
  {
   "cell_type": "markdown",
   "metadata": {},
   "source": [
    "Plot"
   ]
  },
  {
   "cell_type": "code",
   "execution_count": 36,
   "metadata": {},
   "outputs": [
    {
     "data": {
      "text/plain": [
       "[<matplotlib.lines.Line2D at 0x23be3bcf0f0>]"
      ]
     },
     "execution_count": 36,
     "metadata": {},
     "output_type": "execute_result"
    },
    {
     "data": {
      "image/png": "[encoded data removed]",
      "text/plain": [
       "<Figure size 1008x576 with 4 Axes>"
      ]
     },
     "metadata": {
      "needs_background": "light"
     },
     "output_type": "display_data"
    }
   ],
   "source": [
    "fig, axs = plt.subplots(2,2, figsize=(14,8))\n",
    "weeks = range(1,11)\n",
    "axs[0,0].plot(weeks, MAErf)\n",
    "axs[0,0].plot(weeks, MAElr)\n",
    "axs[0,0].plot(weeks, MAEbase)"
   ]
  },
  {
   "cell_type": "markdown",
   "metadata": {},
   "source": [
    "Helpful Functions"
   ]
  },
  {
   "cell_type": "code",
   "execution_count": 17,
   "metadata": {},
   "outputs": [],
   "source": [
    "def get_players_thatweek(all_games, all_players, position, year, game_number, subset_position, specific_players=None):\n",
    "    if specific_players != None:\n",
    "        ids = specific_players\n",
    "    else:\n",
    "        ids = all_players[all_players.position == position].index\n",
    "        \n",
    "    # return pandas df with player_id as index and player name and log draft position columns\n",
    "    games = all_games.loc[ids]\n",
    "    stats = subset_position[position][0]\n",
    "    sum_threshold = subset_position[position][1]\n",
    "    # only take RBs with 5 rush attempts or receiving targets (>= sum_threshold)\n",
    "    worth_predicting = games[(games.year == year) & \n",
    "                             (games.game_number == game_number) &\n",
    "                             (np.sum(games[stats], axis=1) >= sum_threshold)]\n",
    "    ids = worth_predicting.index\n",
    "    for_df = all_players.loc[ids, ['name', 'draft_position']]\n",
    "    # players that weren't drafted give them position of last pick of draft\n",
    "    for_df.fillna(255, inplace=True)\n",
    "    for_df['log_draft_position'] = np.log(for_df.draft_position)\n",
    "    return pd.DataFrame(data=for_df)"
   ]
  },
  {
   "cell_type": "code",
   "execution_count": 20,
   "metadata": {},
   "outputs": [],
   "source": [
    "half_ppr = {\n",
    "    'rushing_yards': 0.1,\n",
    "    'rushing_touchdowns': 6,\n",
    "    'receiving_receptions': 0.5,\n",
    "    'receiving_yards': 0.1,\n",
    "    'receiving_touchdowns': 6\n",
    "}"
   ]
  },
  {
   "cell_type": "code",
   "execution_count": 190,
   "metadata": {},
   "outputs": [],
   "source": [
    "# subset RB position by choosing only RBs with at least 3 fantasy points in previous game\n",
    "subset_position = {\n",
    "    'RB': [['rushing_attempts', 'receiving_targets'], 5.0],\n",
    "    'WR': [['rushing_attempts', 'receiving_targets'], 5.0],\n",
    "    'QB': [['passing_attempts'], 10.0]\n",
    "}"
   ]
  },
  {
   "cell_type": "code",
   "execution_count": 43,
   "metadata": {},
   "outputs": [],
   "source": [
    "def get_features_response_ARMA(players, all_games, year, gameNumber, points_dict):\n",
    "    games = all_games.loc[players.index]\n",
    "    \n",
    "    # compute fpts for each row\n",
    "    games['fpts'] = games['game_number']*0\n",
    "    for stat, value in zip(points_dict.keys(), points_dict.values()):\n",
    "        games['fpts'] = games['fpts'] + games[stat]*value\n",
    "\n",
    "    prev_years = games[(games.year < year) &\n",
    "                       (games.game_number <= 16)]\n",
    "    current_year = games[(games.year == year) &\n",
    "                         (games.game_number <= gameNumber)]\n",
    "    next_game = games[(games.year == year) &\n",
    "                     (games.game_number == gameNumber+1)]\n",
    "    \n",
    "    df = pd.concat((prev_years, current_year))\n",
    "    df.sort_values(by=['player_id', 'year', 'game_number'], axis=0,\n",
    "                   ascending=False, inplace=True)\n",
    "    # group dataframe by index\n",
    "    df = df.groupby(df.index)\n",
    "    \n",
    "    past_16 = df.nth(list(range(0,16))).fpts\n",
    "    weeks = df.nth(list(range(0,16))).game_number\n",
    "    years = df.nth(list(range(0,16))).year\n",
    "    \n",
    "    # get response variable, the next game fantasy points \n",
    "    resp = next_game['fpts']\n",
    "\n",
    "    for_return = pd.concat([past_16, years, weeks], axis=1)\n",
    "    for_return.sort_values(by=['player_id', 'year', 'game_number'], axis=0, ascending=False, inplace=True)\n",
    "    resp = resp.sort_index(ascending=False)\n",
    "    return for_return, resp"
   ]
  },
  {
   "cell_type": "code",
   "execution_count": null,
   "metadata": {},
   "outputs": [],
   "source": []
  }
 ],
 "metadata": {
  "kernelspec": {
   "display_name": "Python 3",
   "language": "python",
   "name": "python3"
  },
  "language_info": {
   "codemirror_mode": {
    "name": "ipython",
    "version": 3
   },
   "file_extension": ".py",
   "mimetype": "text/x-python",
   "name": "python",
   "nbconvert_exporter": "python",
   "pygments_lexer": "ipython3",
   "version": "3.6.8"
  }
 },
 "nbformat": 4,
 "nbformat_minor": 2
}
