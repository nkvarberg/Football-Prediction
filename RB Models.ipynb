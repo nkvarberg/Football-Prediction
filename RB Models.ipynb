{
 "cells": [
  {
   "cell_type": "markdown",
   "metadata": {},
   "source": [
    "**Models**"
   ]
  },
  {
   "cell_type": "markdown",
   "metadata": {},
   "source": [
    "**Running Back**"
   ]
  },
  {
   "cell_type": "code",
   "execution_count": 13,
   "metadata": {
    "ExecuteTime": {
     "end_time": "2019-12-08T22:04:34.824091Z",
     "start_time": "2019-12-08T22:04:34.817646Z"
    }
   },
   "outputs": [],
   "source": [
    "import pandas as pd\n",
    "import numpy as np\n",
    "from sklearn.linear_model import LinearRegression\n",
    "from sklearn.ensemble import RandomForestRegressor\n",
    "from sklearn.metrics import mean_absolute_error\n",
    "from sklearn.metrics import mean_squared_error\n",
    "from statsmodels.tsa.arima_model import ARMA\n",
    "import matplotlib.pyplot as plt\n",
    "%matplotlib inline\n",
    "pd.set_option('display.max_columns', 50)"
   ]
  },
  {
   "cell_type": "code",
   "execution_count": 14,
   "metadata": {
    "ExecuteTime": {
     "end_time": "2019-12-08T22:04:37.303257Z",
     "start_time": "2019-12-08T22:04:34.826815Z"
    }
   },
   "outputs": [],
   "source": [
    "all_games = pd.read_csv('nfl-football-player-stats/games_1995.csv')\n",
    "all_games.drop([440917], inplace=True) # delete weird Lagerrete Blount double game\n",
    "all_games.loc[all_games['team'] == 'SDG', 'team'] = 'LAC'\n",
    "all_games.loc[all_games['team'] == 'STL', 'team'] = 'LAR'\n",
    "all_games.loc[all_games['opponent'] == 'SDG', 'opponent'] = 'LAC'\n",
    "all_games.loc[all_games['opponent'] == 'STL', 'opponent'] = 'LAR'\n",
    "all_games = all_games.set_index('player_id')\n",
    "all_players = pd.read_csv('nfl-football-player-stats/players_1995.csv',index_col='player_id')"
   ]
  },
  {
   "cell_type": "code",
   "execution_count": 15,
   "metadata": {
    "ExecuteTime": {
     "end_time": "2019-12-08T22:04:37.335237Z",
     "start_time": "2019-12-08T22:04:37.305315Z"
    },
    "scrolled": false
   },
   "outputs": [
    {
     "data": {
      "text/html": [
       "<div>\n",
       "<style scoped>\n",
       "    .dataframe tbody tr th:only-of-type {\n",
       "        vertical-align: middle;\n",
       "    }\n",
       "\n",
       "    .dataframe tbody tr th {\n",
       "        vertical-align: top;\n",
       "    }\n",
       "\n",
       "    .dataframe thead th {\n",
       "        text-align: right;\n",
       "    }\n",
       "</style>\n",
       "<table border=\"1\" class=\"dataframe\">\n",
       "  <thead>\n",
       "    <tr style=\"text-align: right;\">\n",
       "      <th></th>\n",
       "      <th>year</th>\n",
       "      <th>game_number</th>\n",
       "      <th>name</th>\n",
       "      <th>team</th>\n",
       "      <th>date</th>\n",
       "      <th>log_draft_position</th>\n",
       "      <th>log_num_games</th>\n",
       "      <th>ewma_fpts</th>\n",
       "      <th>ewma_team_rush_attempts</th>\n",
       "      <th>ewma_team_rush_percentage</th>\n",
       "      <th>ewma_team_passing_rating</th>\n",
       "      <th>ewma_rushing_attempts</th>\n",
       "      <th>ewma_receiving_targets</th>\n",
       "      <th>DY/P</th>\n",
       "      <th>TO</th>\n",
       "      <th>next_fpts</th>\n",
       "      <th>fpts</th>\n",
       "    </tr>\n",
       "    <tr>\n",
       "      <th>player_id</th>\n",
       "      <th></th>\n",
       "      <th></th>\n",
       "      <th></th>\n",
       "      <th></th>\n",
       "      <th></th>\n",
       "      <th></th>\n",
       "      <th></th>\n",
       "      <th></th>\n",
       "      <th></th>\n",
       "      <th></th>\n",
       "      <th></th>\n",
       "      <th></th>\n",
       "      <th></th>\n",
       "      <th></th>\n",
       "      <th></th>\n",
       "      <th></th>\n",
       "      <th></th>\n",
       "    </tr>\n",
       "  </thead>\n",
       "  <tbody>\n",
       "    <tr>\n",
       "      <th>10</th>\n",
       "      <td>2015</td>\n",
       "      <td>1</td>\n",
       "      <td>Ameer Abdullah</td>\n",
       "      <td>DET</td>\n",
       "      <td>2015-09-13</td>\n",
       "      <td>3.988984</td>\n",
       "      <td>0.000000</td>\n",
       "      <td>17.400000</td>\n",
       "      <td>23.809087</td>\n",
       "      <td>0.517256</td>\n",
       "      <td>84.592646</td>\n",
       "      <td>7.000000</td>\n",
       "      <td>4.000000</td>\n",
       "      <td>5.41250</td>\n",
       "      <td>1.400000</td>\n",
       "      <td>2.3</td>\n",
       "      <td>17.4</td>\n",
       "    </tr>\n",
       "    <tr>\n",
       "      <th>10</th>\n",
       "      <td>2015</td>\n",
       "      <td>2</td>\n",
       "      <td>Ameer Abdullah</td>\n",
       "      <td>DET</td>\n",
       "      <td>2015-09-20</td>\n",
       "      <td>3.988984</td>\n",
       "      <td>0.693147</td>\n",
       "      <td>9.378125</td>\n",
       "      <td>22.890371</td>\n",
       "      <td>0.495618</td>\n",
       "      <td>84.005276</td>\n",
       "      <td>6.468750</td>\n",
       "      <td>2.406250</td>\n",
       "      <td>4.47098</td>\n",
       "      <td>1.750000</td>\n",
       "      <td>11.2</td>\n",
       "      <td>2.3</td>\n",
       "    </tr>\n",
       "    <tr>\n",
       "      <th>10</th>\n",
       "      <td>2015</td>\n",
       "      <td>3</td>\n",
       "      <td>Ameer Abdullah</td>\n",
       "      <td>DET</td>\n",
       "      <td>2015-09-27</td>\n",
       "      <td>3.988984</td>\n",
       "      <td>1.098612</td>\n",
       "      <td>10.062809</td>\n",
       "      <td>22.432680</td>\n",
       "      <td>0.482016</td>\n",
       "      <td>82.887008</td>\n",
       "      <td>7.044213</td>\n",
       "      <td>3.381014</td>\n",
       "      <td>4.53456</td>\n",
       "      <td>1.666667</td>\n",
       "      <td>5.4</td>\n",
       "      <td>11.2</td>\n",
       "    </tr>\n",
       "    <tr>\n",
       "      <th>10</th>\n",
       "      <td>2015</td>\n",
       "      <td>4</td>\n",
       "      <td>Ameer Abdullah</td>\n",
       "      <td>DET</td>\n",
       "      <td>2015-10-05</td>\n",
       "      <td>3.988984</td>\n",
       "      <td>1.386294</td>\n",
       "      <td>8.670033</td>\n",
       "      <td>21.911188</td>\n",
       "      <td>0.475728</td>\n",
       "      <td>82.947360</td>\n",
       "      <td>8.823200</td>\n",
       "      <td>3.864604</td>\n",
       "      <td>5.47330</td>\n",
       "      <td>2.000000</td>\n",
       "      <td>3.0</td>\n",
       "      <td>5.4</td>\n",
       "    </tr>\n",
       "    <tr>\n",
       "      <th>10</th>\n",
       "      <td>2015</td>\n",
       "      <td>5</td>\n",
       "      <td>Ameer Abdullah</td>\n",
       "      <td>DET</td>\n",
       "      <td>2015-10-11</td>\n",
       "      <td>3.988984</td>\n",
       "      <td>1.609438</td>\n",
       "      <td>7.236029</td>\n",
       "      <td>21.451048</td>\n",
       "      <td>0.455653</td>\n",
       "      <td>81.059436</td>\n",
       "      <td>8.109187</td>\n",
       "      <td>3.393028</td>\n",
       "      <td>5.46972</td>\n",
       "      <td>1.750000</td>\n",
       "      <td>8.4</td>\n",
       "      <td>3.0</td>\n",
       "    </tr>\n",
       "  </tbody>\n",
       "</table>\n",
       "</div>"
      ],
      "text/plain": [
       "           year  game_number            name team        date  \\\n",
       "player_id                                                       \n",
       "10         2015            1  Ameer Abdullah  DET  2015-09-13   \n",
       "10         2015            2  Ameer Abdullah  DET  2015-09-20   \n",
       "10         2015            3  Ameer Abdullah  DET  2015-09-27   \n",
       "10         2015            4  Ameer Abdullah  DET  2015-10-05   \n",
       "10         2015            5  Ameer Abdullah  DET  2015-10-11   \n",
       "\n",
       "           log_draft_position  log_num_games  ewma_fpts  \\\n",
       "player_id                                                 \n",
       "10                   3.988984       0.000000  17.400000   \n",
       "10                   3.988984       0.693147   9.378125   \n",
       "10                   3.988984       1.098612  10.062809   \n",
       "10                   3.988984       1.386294   8.670033   \n",
       "10                   3.988984       1.609438   7.236029   \n",
       "\n",
       "           ewma_team_rush_attempts  ewma_team_rush_percentage  \\\n",
       "player_id                                                       \n",
       "10                       23.809087                   0.517256   \n",
       "10                       22.890371                   0.495618   \n",
       "10                       22.432680                   0.482016   \n",
       "10                       21.911188                   0.475728   \n",
       "10                       21.451048                   0.455653   \n",
       "\n",
       "           ewma_team_passing_rating  ewma_rushing_attempts  \\\n",
       "player_id                                                    \n",
       "10                        84.592646               7.000000   \n",
       "10                        84.005276               6.468750   \n",
       "10                        82.887008               7.044213   \n",
       "10                        82.947360               8.823200   \n",
       "10                        81.059436               8.109187   \n",
       "\n",
       "           ewma_receiving_targets     DY/P        TO  next_fpts  fpts  \n",
       "player_id                                                              \n",
       "10                       4.000000  5.41250  1.400000        2.3  17.4  \n",
       "10                       2.406250  4.47098  1.750000       11.2   2.3  \n",
       "10                       3.381014  4.53456  1.666667        5.4  11.2  \n",
       "10                       3.864604  5.47330  2.000000        3.0   5.4  \n",
       "10                       3.393028  5.46972  1.750000        8.4   3.0  "
      ]
     },
     "execution_count": 15,
     "metadata": {},
     "output_type": "execute_result"
    }
   ],
   "source": [
    "data = pd.read_csv('rbs_2014_2017.csv', index_col='player_id')\n",
    "data.head()"
   ]
  },
  {
   "cell_type": "code",
   "execution_count": 16,
   "metadata": {
    "ExecuteTime": {
     "end_time": "2019-12-08T22:06:03.841194Z",
     "start_time": "2019-12-08T22:04:37.337858Z"
    }
   },
   "outputs": [
    {
     "name": "stderr",
     "output_type": "stream",
     "text": [
      "/home/s/anaconda3/lib/python3.7/site-packages/ipykernel_launcher.py:25: DataConversionWarning: A column-vector y was passed when a 1d array was expected. Please change the shape of y to (n_samples,), for example using ravel().\n",
      "/home/s/anaconda3/lib/python3.7/site-packages/ipykernel_launcher.py:25: DataConversionWarning: A column-vector y was passed when a 1d array was expected. Please change the shape of y to (n_samples,), for example using ravel().\n",
      "/home/s/anaconda3/lib/python3.7/site-packages/ipykernel_launcher.py:25: DataConversionWarning: A column-vector y was passed when a 1d array was expected. Please change the shape of y to (n_samples,), for example using ravel().\n",
      "/home/s/anaconda3/lib/python3.7/site-packages/ipykernel_launcher.py:25: DataConversionWarning: A column-vector y was passed when a 1d array was expected. Please change the shape of y to (n_samples,), for example using ravel().\n",
      "/home/s/anaconda3/lib/python3.7/site-packages/ipykernel_launcher.py:25: DataConversionWarning: A column-vector y was passed when a 1d array was expected. Please change the shape of y to (n_samples,), for example using ravel().\n",
      "/home/s/anaconda3/lib/python3.7/site-packages/ipykernel_launcher.py:25: DataConversionWarning: A column-vector y was passed when a 1d array was expected. Please change the shape of y to (n_samples,), for example using ravel().\n",
      "/home/s/anaconda3/lib/python3.7/site-packages/ipykernel_launcher.py:25: DataConversionWarning: A column-vector y was passed when a 1d array was expected. Please change the shape of y to (n_samples,), for example using ravel().\n",
      "/home/s/anaconda3/lib/python3.7/site-packages/ipykernel_launcher.py:25: DataConversionWarning: A column-vector y was passed when a 1d array was expected. Please change the shape of y to (n_samples,), for example using ravel().\n",
      "/home/s/anaconda3/lib/python3.7/site-packages/ipykernel_launcher.py:25: DataConversionWarning: A column-vector y was passed when a 1d array was expected. Please change the shape of y to (n_samples,), for example using ravel().\n",
      "/home/s/anaconda3/lib/python3.7/site-packages/ipykernel_launcher.py:25: DataConversionWarning: A column-vector y was passed when a 1d array was expected. Please change the shape of y to (n_samples,), for example using ravel().\n",
      "/home/s/anaconda3/lib/python3.7/site-packages/ipykernel_launcher.py:25: DataConversionWarning: A column-vector y was passed when a 1d array was expected. Please change the shape of y to (n_samples,), for example using ravel().\n",
      "/home/s/anaconda3/lib/python3.7/site-packages/ipykernel_launcher.py:25: DataConversionWarning: A column-vector y was passed when a 1d array was expected. Please change the shape of y to (n_samples,), for example using ravel().\n",
      "/home/s/anaconda3/lib/python3.7/site-packages/ipykernel_launcher.py:25: DataConversionWarning: A column-vector y was passed when a 1d array was expected. Please change the shape of y to (n_samples,), for example using ravel().\n",
      "/home/s/anaconda3/lib/python3.7/site-packages/ipykernel_launcher.py:25: DataConversionWarning: A column-vector y was passed when a 1d array was expected. Please change the shape of y to (n_samples,), for example using ravel().\n",
      "/home/s/anaconda3/lib/python3.7/site-packages/ipykernel_launcher.py:25: DataConversionWarning: A column-vector y was passed when a 1d array was expected. Please change the shape of y to (n_samples,), for example using ravel().\n",
      "/home/s/anaconda3/lib/python3.7/site-packages/ipykernel_launcher.py:25: DataConversionWarning: A column-vector y was passed when a 1d array was expected. Please change the shape of y to (n_samples,), for example using ravel().\n",
      "/home/s/anaconda3/lib/python3.7/site-packages/ipykernel_launcher.py:25: DataConversionWarning: A column-vector y was passed when a 1d array was expected. Please change the shape of y to (n_samples,), for example using ravel().\n",
      "/home/s/anaconda3/lib/python3.7/site-packages/ipykernel_launcher.py:25: DataConversionWarning: A column-vector y was passed when a 1d array was expected. Please change the shape of y to (n_samples,), for example using ravel().\n",
      "/home/s/anaconda3/lib/python3.7/site-packages/ipykernel_launcher.py:25: DataConversionWarning: A column-vector y was passed when a 1d array was expected. Please change the shape of y to (n_samples,), for example using ravel().\n",
      "/home/s/anaconda3/lib/python3.7/site-packages/ipykernel_launcher.py:25: DataConversionWarning: A column-vector y was passed when a 1d array was expected. Please change the shape of y to (n_samples,), for example using ravel().\n",
      "/home/s/anaconda3/lib/python3.7/site-packages/ipykernel_launcher.py:25: DataConversionWarning: A column-vector y was passed when a 1d array was expected. Please change the shape of y to (n_samples,), for example using ravel().\n",
      "/home/s/anaconda3/lib/python3.7/site-packages/ipykernel_launcher.py:25: DataConversionWarning: A column-vector y was passed when a 1d array was expected. Please change the shape of y to (n_samples,), for example using ravel().\n",
      "/home/s/anaconda3/lib/python3.7/site-packages/ipykernel_launcher.py:25: DataConversionWarning: A column-vector y was passed when a 1d array was expected. Please change the shape of y to (n_samples,), for example using ravel().\n",
      "/home/s/anaconda3/lib/python3.7/site-packages/ipykernel_launcher.py:25: DataConversionWarning: A column-vector y was passed when a 1d array was expected. Please change the shape of y to (n_samples,), for example using ravel().\n",
      "/home/s/anaconda3/lib/python3.7/site-packages/ipykernel_launcher.py:25: DataConversionWarning: A column-vector y was passed when a 1d array was expected. Please change the shape of y to (n_samples,), for example using ravel().\n"
     ]
    },
    {
     "name": "stdout",
     "output_type": "stream",
     "text": [
      "[249.30272752211897, 248.03550841923104, 248.49305391842177, 249.41271758651413, 248.8820927300426]\n",
      "[27.61209717212612, 27.530046116222962, 27.55411913602967, 27.597701597817384, 27.55781982476588]\n"
     ]
    }
   ],
   "source": [
    "# Tuning parameter for RF\n",
    "# 350 is best\n",
    "from sklearn.model_selection import KFold\n",
    "kf = KFold(n_splits=5, shuffle=True, random_state=3)\n",
    "\n",
    "#get 2014-2016\n",
    "features = ['log_draft_position','log_num_games','ewma_fpts','ewma_team_rush_attempts','ewma_team_rush_percentage','ewma_team_passing_rating','ewma_rushing_attempts','ewma_receiving_targets','DY/P','TO']\n",
    "resp = ['next_fpts']\n",
    "trainX2016 = data.loc[data['year'] < 2017][features]\n",
    "trainy2016 = data.loc[data['year'] < 2017][resp]\n",
    "\n",
    "# re index\n",
    "trainX2016.reset_index(drop=True, inplace=True)\n",
    "trainy2016.reset_index(drop=True, inplace=True)\n",
    "\n",
    "range_est = [200,250,300,350,400]\n",
    "mses = [0,0,0,0,0]\n",
    "maes = [0,0,0,0,0]\n",
    "\n",
    "for train_index, test_index in kf.split(trainX2016):\n",
    "    X_train, X_test = trainX2016.iloc[train_index], trainX2016.iloc[test_index]\n",
    "    y_train, y_test = trainy2016.iloc[train_index], trainy2016.iloc[test_index]\n",
    "    for j in range(len(range_est)):\n",
    "        rf_model = RandomForestRegressor(n_estimators=range_est[j])\n",
    "        rf_model.fit(X_train, y_train)\n",
    "        preds = rf_model.predict(X_test)\n",
    "        mses[j] += mean_squared_error(y_test, preds)\n",
    "        maes[j] += mean_absolute_error(y_test, preds)\n",
    "print(mses)\n",
    "print(maes)"
   ]
  },
  {
   "cell_type": "code",
   "execution_count": 17,
   "metadata": {
    "ExecuteTime": {
     "end_time": "2019-12-08T22:07:05.637142Z",
     "start_time": "2019-12-08T22:06:03.843167Z"
    },
    "scrolled": true
   },
   "outputs": [
    {
     "name": "stdout",
     "output_type": "stream",
     "text": [
      "1\n",
      "Score:  0.10901772692659994\n",
      "MAE before feature selection:  5.303677034400215\n"
     ]
    },
    {
     "data": {
      "image/png": "[encoded data removed]",
      "text/plain": [
       "<Figure size 432x288 with 1 Axes>"
      ]
     },
     "metadata": {
      "needs_background": "light"
     },
     "output_type": "display_data"
    },
    {
     "name": "stderr",
     "output_type": "stream",
     "text": [
      "/home/s/anaconda3/lib/python3.7/site-packages/sklearn/utils/validation.py:724: DataConversionWarning: A column-vector y was passed when a 1d array was expected. Please change the shape of y to (n_samples, ), for example using ravel().\n",
      "  y = column_or_1d(y, warn=True)\n",
      "/home/s/anaconda3/lib/python3.7/site-packages/ipykernel_launcher.py:97: DataConversionWarning: A column-vector y was passed when a 1d array was expected. Please change the shape of y to (n_samples,), for example using ravel().\n"
     ]
    },
    {
     "name": "stdout",
     "output_type": "stream",
     "text": [
      "[False  True  True  True  True  True  True  True  True False]\n",
      "[2 1 1 1 1 1 1 1 1 3]\n",
      "MAE after feature selection:  5.304853637785952\n",
      "2\n",
      "Score:  0.25427425526516867\n",
      "MAE before feature selection:  5.0545359241900405\n"
     ]
    },
    {
     "data": {
      "image/png": "[encoded data removed]",
      "text/plain": [
       "<Figure size 432x288 with 1 Axes>"
      ]
     },
     "metadata": {
      "needs_background": "light"
     },
     "output_type": "display_data"
    },
    {
     "name": "stderr",
     "output_type": "stream",
     "text": [
      "/home/s/anaconda3/lib/python3.7/site-packages/sklearn/utils/validation.py:724: DataConversionWarning: A column-vector y was passed when a 1d array was expected. Please change the shape of y to (n_samples, ), for example using ravel().\n",
      "  y = column_or_1d(y, warn=True)\n",
      "/home/s/anaconda3/lib/python3.7/site-packages/ipykernel_launcher.py:97: DataConversionWarning: A column-vector y was passed when a 1d array was expected. Please change the shape of y to (n_samples,), for example using ravel().\n"
     ]
    },
    {
     "name": "stdout",
     "output_type": "stream",
     "text": [
      "[False False  True False False False  True False False False]\n",
      "[8 6 1 4 7 3 1 2 5 9]\n",
      "MAE after feature selection:  5.137058144056128\n",
      "3\n",
      "Score:  0.17978717330335103\n",
      "MAE before feature selection:  5.886188555618627\n"
     ]
    },
    {
     "data": {
      "image/png": "[encoded data removed]",
      "text/plain": [
       "<Figure size 432x288 with 1 Axes>"
      ]
     },
     "metadata": {
      "needs_background": "light"
     },
     "output_type": "display_data"
    },
    {
     "name": "stderr",
     "output_type": "stream",
     "text": [
      "/home/s/anaconda3/lib/python3.7/site-packages/sklearn/utils/validation.py:724: DataConversionWarning: A column-vector y was passed when a 1d array was expected. Please change the shape of y to (n_samples, ), for example using ravel().\n",
      "  y = column_or_1d(y, warn=True)\n"
     ]
    },
    {
     "name": "stdout",
     "output_type": "stream",
     "text": [
      "[False False  True  True False  True  True  True False False]\n",
      "[5 3 1 1 4 1 1 1 2 6]\n",
      "MAE after feature selection:  5.824315153453053\n"
     ]
    },
    {
     "name": "stderr",
     "output_type": "stream",
     "text": [
      "/home/s/anaconda3/lib/python3.7/site-packages/ipykernel_launcher.py:97: DataConversionWarning: A column-vector y was passed when a 1d array was expected. Please change the shape of y to (n_samples,), for example using ravel().\n"
     ]
    },
    {
     "name": "stdout",
     "output_type": "stream",
     "text": [
      "4\n",
      "Score:  0.13040612210672553\n",
      "MAE before feature selection:  4.577816394368311\n"
     ]
    },
    {
     "data": {
      "image/png": "[encoded data removed]",
      "text/plain": [
       "<Figure size 432x288 with 1 Axes>"
      ]
     },
     "metadata": {
      "needs_background": "light"
     },
     "output_type": "display_data"
    },
    {
     "name": "stderr",
     "output_type": "stream",
     "text": [
      "/home/s/anaconda3/lib/python3.7/site-packages/sklearn/utils/validation.py:724: DataConversionWarning: A column-vector y was passed when a 1d array was expected. Please change the shape of y to (n_samples, ), for example using ravel().\n",
      "  y = column_or_1d(y, warn=True)\n",
      "/home/s/anaconda3/lib/python3.7/site-packages/ipykernel_launcher.py:97: DataConversionWarning: A column-vector y was passed when a 1d array was expected. Please change the shape of y to (n_samples,), for example using ravel().\n"
     ]
    },
    {
     "name": "stdout",
     "output_type": "stream",
     "text": [
      "[False  True  True  True False  True  True  True  True False]\n",
      "[2 1 1 1 3 1 1 1 1 4]\n",
      "MAE after feature selection:  4.582875055222983\n",
      "5\n",
      "Score:  0.36278734970002835\n",
      "MAE before feature selection:  5.1679937634685\n"
     ]
    },
    {
     "data": {
      "image/png": "[encoded data removed]",
      "text/plain": [
       "<Figure size 432x288 with 1 Axes>"
      ]
     },
     "metadata": {
      "needs_background": "light"
     },
     "output_type": "display_data"
    },
    {
     "name": "stderr",
     "output_type": "stream",
     "text": [
      "/home/s/anaconda3/lib/python3.7/site-packages/sklearn/utils/validation.py:724: DataConversionWarning: A column-vector y was passed when a 1d array was expected. Please change the shape of y to (n_samples, ), for example using ravel().\n",
      "  y = column_or_1d(y, warn=True)\n",
      "/home/s/anaconda3/lib/python3.7/site-packages/ipykernel_launcher.py:97: DataConversionWarning: A column-vector y was passed when a 1d array was expected. Please change the shape of y to (n_samples,), for example using ravel().\n"
     ]
    },
    {
     "name": "stdout",
     "output_type": "stream",
     "text": [
      "[False  True  True  True False  True  True  True  True False]\n",
      "[3 1 1 1 2 1 1 1 1 4]\n",
      "MAE after feature selection:  5.188254997204043\n",
      "6\n",
      "Score:  0.3447719396436191\n",
      "MAE before feature selection:  4.7438467969241955\n"
     ]
    },
    {
     "data": {
      "image/png": "[encoded data removed]",
      "text/plain": [
       "<Figure size 432x288 with 1 Axes>"
      ]
     },
     "metadata": {
      "needs_background": "light"
     },
     "output_type": "display_data"
    },
    {
     "name": "stderr",
     "output_type": "stream",
     "text": [
      "/home/s/anaconda3/lib/python3.7/site-packages/sklearn/utils/validation.py:724: DataConversionWarning: A column-vector y was passed when a 1d array was expected. Please change the shape of y to (n_samples, ), for example using ravel().\n",
      "  y = column_or_1d(y, warn=True)\n",
      "/home/s/anaconda3/lib/python3.7/site-packages/ipykernel_launcher.py:97: DataConversionWarning: A column-vector y was passed when a 1d array was expected. Please change the shape of y to (n_samples,), for example using ravel().\n"
     ]
    },
    {
     "name": "stdout",
     "output_type": "stream",
     "text": [
      "[ True  True  True  True False  True  True  True  True False]\n",
      "[1 1 1 1 2 1 1 1 1 3]\n",
      "MAE after feature selection:  4.750967169502874\n",
      "7\n",
      "Score:  0.056566261596711735\n",
      "MAE before feature selection:  4.852081655855221\n"
     ]
    },
    {
     "data": {
      "image/png": "[encoded data removed]",
      "text/plain": [
       "<Figure size 432x288 with 1 Axes>"
      ]
     },
     "metadata": {
      "needs_background": "light"
     },
     "output_type": "display_data"
    },
    {
     "name": "stderr",
     "output_type": "stream",
     "text": [
      "/home/s/anaconda3/lib/python3.7/site-packages/sklearn/utils/validation.py:724: DataConversionWarning: A column-vector y was passed when a 1d array was expected. Please change the shape of y to (n_samples, ), for example using ravel().\n",
      "  y = column_or_1d(y, warn=True)\n",
      "/home/s/anaconda3/lib/python3.7/site-packages/ipykernel_launcher.py:97: DataConversionWarning: A column-vector y was passed when a 1d array was expected. Please change the shape of y to (n_samples,), for example using ravel().\n"
     ]
    },
    {
     "name": "stdout",
     "output_type": "stream",
     "text": [
      "[False  True  True  True False  True  True  True  True False]\n",
      "[2 1 1 1 3 1 1 1 1 4]\n",
      "MAE after feature selection:  4.852045474988006\n",
      "8\n",
      "Score:  0.06365518017462934\n",
      "MAE before feature selection:  5.694446144607861\n"
     ]
    },
    {
     "data": {
      "image/png": "[encoded data removed]",
      "text/plain": [
       "<Figure size 432x288 with 1 Axes>"
      ]
     },
     "metadata": {
      "needs_background": "light"
     },
     "output_type": "display_data"
    },
    {
     "name": "stderr",
     "output_type": "stream",
     "text": [
      "/home/s/anaconda3/lib/python3.7/site-packages/sklearn/utils/validation.py:724: DataConversionWarning: A column-vector y was passed when a 1d array was expected. Please change the shape of y to (n_samples, ), for example using ravel().\n",
      "  y = column_or_1d(y, warn=True)\n",
      "/home/s/anaconda3/lib/python3.7/site-packages/ipykernel_launcher.py:97: DataConversionWarning: A column-vector y was passed when a 1d array was expected. Please change the shape of y to (n_samples,), for example using ravel().\n"
     ]
    },
    {
     "name": "stdout",
     "output_type": "stream",
     "text": [
      "[False False  True False False False  True  True False False]\n",
      "[6 4 1 3 7 2 1 1 5 8]\n",
      "MAE after feature selection:  5.753923470607379\n",
      "9\n",
      "Score:  0.16993207227152796\n",
      "MAE before feature selection:  5.014576370865821\n"
     ]
    },
    {
     "data": {
      "image/png": "[encoded data removed]",
      "text/plain": [
       "<Figure size 432x288 with 1 Axes>"
      ]
     },
     "metadata": {
      "needs_background": "light"
     },
     "output_type": "display_data"
    },
    {
     "name": "stderr",
     "output_type": "stream",
     "text": [
      "/home/s/anaconda3/lib/python3.7/site-packages/sklearn/utils/validation.py:724: DataConversionWarning: A column-vector y was passed when a 1d array was expected. Please change the shape of y to (n_samples, ), for example using ravel().\n",
      "  y = column_or_1d(y, warn=True)\n",
      "/home/s/anaconda3/lib/python3.7/site-packages/ipykernel_launcher.py:97: DataConversionWarning: A column-vector y was passed when a 1d array was expected. Please change the shape of y to (n_samples,), for example using ravel().\n"
     ]
    },
    {
     "name": "stdout",
     "output_type": "stream",
     "text": [
      "[False  True  True  True False  True  True  True  True False]\n",
      "[2 1 1 1 3 1 1 1 1 4]\n",
      "MAE after feature selection:  5.004725333897008\n",
      "10\n",
      "Score:  0.14915668848181818\n",
      "MAE before feature selection:  4.929484224734538\n"
     ]
    },
    {
     "data": {
      "image/png": "[encoded data removed]",
      "text/plain": [
       "<Figure size 432x288 with 1 Axes>"
      ]
     },
     "metadata": {
      "needs_background": "light"
     },
     "output_type": "display_data"
    },
    {
     "name": "stderr",
     "output_type": "stream",
     "text": [
      "/home/s/anaconda3/lib/python3.7/site-packages/sklearn/utils/validation.py:724: DataConversionWarning: A column-vector y was passed when a 1d array was expected. Please change the shape of y to (n_samples, ), for example using ravel().\n",
      "  y = column_or_1d(y, warn=True)\n",
      "/home/s/anaconda3/lib/python3.7/site-packages/ipykernel_launcher.py:97: DataConversionWarning: A column-vector y was passed when a 1d array was expected. Please change the shape of y to (n_samples,), for example using ravel().\n"
     ]
    },
    {
     "name": "stdout",
     "output_type": "stream",
     "text": [
      "[False  True  True False  True  True  True  True  True False]\n",
      "[2 1 1 3 1 1 1 1 1 4]\n",
      "MAE after feature selection:  4.925788821199711\n"
     ]
    }
   ],
   "source": [
    "from sklearn.preprocessing import StandardScaler\n",
    "from sklearn.linear_model import LinearRegression\n",
    "from sklearn.ensemble import RandomForestRegressor\n",
    "from sklearn.feature_selection import RFE, RFECV\n",
    "\n",
    "# Training on the 2017 season\n",
    "MSEarma = []\n",
    "MAEarma = []\n",
    "MSElr = []\n",
    "MAElr = []\n",
    "MSErf = []\n",
    "MAErf = []\n",
    "MSEbase = []\n",
    "MAEbase = []\n",
    "\n",
    "MAElrA = []\n",
    "MSElrA = []\n",
    "\n",
    "for w in range(1,11):\n",
    "    print(w)\n",
    "    WEEK = w\n",
    "    POSITION = 'RB'\n",
    "    YEAR = 2017\n",
    "\n",
    "    features = ['log_draft_position','log_num_games','ewma_fpts','ewma_team_rush_attempts','ewma_team_rush_percentage','ewma_team_passing_rating','ewma_rushing_attempts','ewma_receiving_targets','DY/P','TO']\n",
    "    resp = ['next_fpts']\n",
    "    X_train = data.loc[data['year'] < 2017][features]\n",
    "    X_traincurr = data.loc[(data['year'] == 2017) & (data['game_number'] < WEEK)][features]\n",
    "    if len(X_traincurr)>0:\n",
    "        X_train = X_train.append(X_traincurr)\n",
    "    y_train = data.loc[data['year'] < 2017][resp]\n",
    "    y_traincurr = data.loc[(data['year'] == 2017) & (data['game_number'] < WEEK)][resp]\n",
    "    if len(y_traincurr)>0:\n",
    "        y_train = y_train.append(y_traincurr) \n",
    "    X_test = data.loc[(data['year'] == 2017) & (data['game_number']==WEEK)][features]\n",
    "    y_test = data.loc[(data['year'] == 2017) & (data['game_number']==WEEK)][resp]\n",
    "\n",
    "    # Fitting models\n",
    "\n",
    "    # naive approach\n",
    "    preds = data.loc[(data['year'] == 2017) & (data['game_number']==WEEK)]['fpts']\n",
    "    MAEbase.append(mean_absolute_error(y_test, preds))\n",
    "    MSEbase.append(mean_squared_error(y_test, preds))\n",
    "\n",
    "    # ARMA\n",
    "    '''\n",
    "    players = get_players_thatweek(all_games, all_players, POSITION, YEAR, WEEK, subset_position)\n",
    "    X, resp = get_features_response_ARMA(players, all_games, YEAR, WEEK, half_ppr)\n",
    "    preds = []\n",
    "    for i in resp.index:\n",
    "        if type(X.loc[i]['fpts']) != np.float64:\n",
    "            past_fpts = X.loc[i]['fpts'].values\n",
    "            model = ARMA(past_fpts, (0,1))\n",
    "            model_fit = model.fit(disp=0)\n",
    "            preds.append(model_fit.forecast()[0][0])\n",
    "        else:\n",
    "            resp.drop([i],inplace=True)\n",
    "    MAEarma.append(mean_absolute_error(resp, preds))\n",
    "    MSEarma.append(mean_squared_error(resp, preds))\n",
    "    '''\n",
    "\n",
    "    # linear regression\n",
    "    XtrainS = StandardScaler().fit_transform(X_train)\n",
    "    XtestS = StandardScaler().fit_transform(X_test)\n",
    "    XtrainT = XtrainS.copy()\n",
    "    XtestT = XtestS.copy()\n",
    "    lr = LinearRegression()\n",
    "    lr.fit(XtrainS, y_train)\n",
    "    print('Score: ',lr.score(XtestS, y_test))\n",
    "    preds = lr.predict(XtestS)\n",
    "    MAElr.append(mean_absolute_error(y_test, preds))\n",
    "    MSElr.append(mean_squared_error(y_test, preds))\n",
    "    print('MAE before feature selection: ',mean_absolute_error(y_test, preds))\n",
    "    \n",
    "    yhat = lr.predict(X_train)\n",
    "    residuals = yhat - y_train\n",
    "    plt.figure()\n",
    "    plt.hist(residuals.values)\n",
    "    plt.title('Residuals for week '+str(w))\n",
    "    plt.grid()\n",
    "    plt.show()\n",
    "    \n",
    "    \n",
    "    selector = RFECV(lr, step=1, cv=10)\n",
    "    selector = selector.fit(XtrainT, y_train)\n",
    "    print(selector.support_)\n",
    "    print(selector.ranking_)\n",
    "    X_new = selector.transform(XtrainT)\n",
    "    lr.fit(X_new,y_train)\n",
    "    preds = lr.predict(selector.transform(XtestT))\n",
    "    print('MAE after feature selection: ',mean_absolute_error(y_test, preds))\n",
    "    MAElrA.append(mean_absolute_error(y_test, preds))\n",
    "    MSElrA.append(mean_squared_error(y_test, preds))\n",
    "    \n",
    "    # random forest\n",
    "    rf = RandomForestRegressor(n_estimators = 350)\n",
    "    rf.fit(XtrainS, y_train)\n",
    "    preds = rf.predict(XtestS)\n",
    "    MAErf.append(mean_absolute_error(y_test, preds))\n",
    "    MSErf.append(mean_squared_error(y_test, preds))"
   ]
  },
  {
   "cell_type": "code",
   "execution_count": 18,
   "metadata": {
    "ExecuteTime": {
     "end_time": "2019-12-08T22:07:05.641930Z",
     "start_time": "2019-12-08T22:07:05.639424Z"
    }
   },
   "outputs": [],
   "source": [
    "# lr.score(XtestT, y_test)"
   ]
  },
  {
   "cell_type": "code",
   "execution_count": 19,
   "metadata": {
    "ExecuteTime": {
     "end_time": "2019-12-08T22:07:05.735714Z",
     "start_time": "2019-12-08T22:07:05.644587Z"
    },
    "scrolled": true
   },
   "outputs": [
    {
     "name": "stdout",
     "output_type": "stream",
     "text": [
      "RF:  [5.545600907029477, 5.540451612903225, 6.170150121065374, 4.7531333333333325, 5.3753489461358335, 4.805368421052633, 4.830628571428573, 5.8177881773399, 5.212721088435372, 4.937046153846154]\n",
      "RF:  [44.96034831616454, 50.464944339697176, 59.21021166931856, 40.881242, 45.525900246236226, 33.8815014063731, 36.05523852517012, 51.02259357494722, 39.521090732750224, 42.61183994725275]\n",
      "LR:  [5.303677034400215, 5.0545359241900405, 5.886188555618627, 4.577816394368311, 5.1679937634685, 4.7438467969241955, 4.852081655855221, 5.694446144607861, 5.014576370865821, 4.929484224734538]\n",
      "LR:  [43.78875939387487, 46.05571159909178, 55.698176635571976, 38.089687745779294, 45.023267599593524, 31.5990094817023, 36.293421578856034, 49.652762541426746, 34.11679987383564, 41.02784572613582]\n",
      "LRAdjusted:  [5.304853637785952, 5.137058144056128, 5.824315153453053, 4.582875055222983, 5.188254997204043, 4.750967169502874, 4.852045474988006, 5.753923470607379, 5.004725333897008, 4.925788821199711]\n",
      "LRAdjusted:  [43.804512144452744, 46.91954827297204, 55.124398892039885, 38.26833162068058, 45.21995401133093, 31.616730739249782, 36.4764184320194, 49.64704590683946, 34.03694773230624, 41.198704577386124]\n",
      "baseline:  [5.980952380952382, 5.829032258064516, 6.552542372881358, 6.734999999999999, 5.413114754098362, 5.9515789473684215, 6.316666666666666, 6.620689655172414, 6.260317460317461, 6.212307692307692]\n",
      "baseline:  [59.059047619047625, 68.14032258064518, 69.83728813559323, 88.5521666666667, 58.83704918032788, 67.05076491228071, 67.206, 75.04034482758621, 63.45682539682541, 60.77476923076924]\n",
      "ARMA:  []\n",
      "ARMA:  []\n"
     ]
    }
   ],
   "source": [
    "print(\"RF: \",MAErf)\n",
    "print(\"RF: \", MSErf)\n",
    "print(\"LR: \",MAElr)\n",
    "print(\"LR: \", MSElr)\n",
    "print(\"LRAdjusted: \",MAElrA)\n",
    "print(\"LRAdjusted: \", MSElrA)\n",
    "print(\"baseline: \",MAEbase)\n",
    "print(\"baseline: \", MSEbase)\n",
    "print(\"ARMA: \",MAEarma)\n",
    "print('ARMA: ', MSEarma)"
   ]
  },
  {
   "cell_type": "markdown",
   "metadata": {},
   "source": [
    "Plot"
   ]
  },
  {
   "cell_type": "code",
   "execution_count": 20,
   "metadata": {
    "ExecuteTime": {
     "end_time": "2019-12-08T22:07:06.466384Z",
     "start_time": "2019-12-08T22:07:05.739231Z"
    }
   },
   "outputs": [
    {
     "data": {
      "text/plain": [
       "[<matplotlib.lines.Line2D at 0x7f882d5dfe80>]"
      ]
     },
     "execution_count": 20,
     "metadata": {},
     "output_type": "execute_result"
    },
    {
     "data": {
      "image/png": "[encoded data removed]",
      "text/plain": [
       "<Figure size 1008x576 with 4 Axes>"
      ]
     },
     "metadata": {
      "needs_background": "light"
     },
     "output_type": "display_data"
    }
   ],
   "source": [
    "fig, axs = plt.subplots(2,2, figsize=(14,8))\n",
    "weeks = range(1,11)\n",
    "axs[0,0].plot(weeks, MAErf)\n",
    "axs[0,0].plot(weeks, MAElr)\n",
    "axs[0,0].plot(weeks, MAEbase)\n",
    "# no need to include unless you're curious:\n",
    "axs[0,0].plot(weeks, MAElrA)\n",
    "axs[0,1].plot(weeks, MSErf)\n",
    "axs[0,1].plot(weeks, MSElr)\n",
    "axs[0,1].plot(weeks, MSEbase)\n",
    "# no need to include unless you're curious:\n",
    "axs[0,1].plot(weeks, MSElrA)"
   ]
  },
  {
   "cell_type": "markdown",
   "metadata": {},
   "source": [
    "Helpful Functions"
   ]
  },
  {
   "cell_type": "code",
   "execution_count": null,
   "metadata": {},
   "outputs": [],
   "source": [
    "def get_players_thatweek(all_games, all_players, position, year, game_number, subset_position, specific_players=None):\n",
    "    if specific_players != None:\n",
    "        ids = specific_players\n",
    "    else:\n",
    "        ids = all_players[all_players.position == position].index\n",
    "        \n",
    "    # return pandas df with player_id as index and player name and log draft position columns\n",
    "    games = all_games.loc[ids]\n",
    "    stats = subset_position[position][0]\n",
    "    sum_threshold = subset_position[position][1]\n",
    "    # only take RBs with 5 rush attempts or receiving targets (>= sum_threshold)\n",
    "    worth_predicting = games[(games.year == year) & \n",
    "                             (games.game_number == game_number) &\n",
    "                             (np.sum(games[stats], axis=1) >= sum_threshold)]\n",
    "    ids = worth_predicting.index\n",
    "    for_df = all_players.loc[ids, ['name', 'draft_position']]\n",
    "    # players that weren't drafted give them position of last pick of draft\n",
    "    for_df.fillna(255, inplace=True)\n",
    "    for_df['log_draft_position'] = np.log(for_df.draft_position)\n",
    "    return pd.DataFrame(data=for_df)"
   ]
  },
  {
   "cell_type": "code",
   "execution_count": null,
   "metadata": {},
   "outputs": [],
   "source": [
    "half_ppr = {\n",
    "    'rushing_yards': 0.1,\n",
    "    'rushing_touchdowns': 6,\n",
    "    'receiving_receptions': 0.5,\n",
    "    'receiving_yards': 0.1,\n",
    "    'receiving_touchdowns': 6\n",
    "}"
   ]
  },
  {
   "cell_type": "code",
   "execution_count": null,
   "metadata": {},
   "outputs": [],
   "source": [
    "# subset RB position by choosing only RBs with at least 3 fantasy points in previous game\n",
    "subset_position = {\n",
    "    'RB': [['rushing_attempts', 'receiving_targets'], 5.0],\n",
    "    'WR': [['rushing_attempts', 'receiving_targets'], 5.0],\n",
    "    'QB': [['passing_attempts'], 10.0]\n",
    "}"
   ]
  },
  {
   "cell_type": "code",
   "execution_count": null,
   "metadata": {},
   "outputs": [],
   "source": [
    "def get_features_response_ARMA(players, all_games, year, gameNumber, points_dict):\n",
    "    games = all_games.loc[players.index]\n",
    "    \n",
    "    # compute fpts for each row\n",
    "    games['fpts'] = games['game_number']*0\n",
    "    for stat, value in zip(points_dict.keys(), points_dict.values()):\n",
    "        games['fpts'] = games['fpts'] + games[stat]*value\n",
    "\n",
    "    prev_years = games[(games.year < year) &\n",
    "                       (games.game_number <= 16)]\n",
    "    current_year = games[(games.year == year) &\n",
    "                         (games.game_number <= gameNumber)]\n",
    "    next_game = games[(games.year == year) &\n",
    "                     (games.game_number == gameNumber+1)]\n",
    "    \n",
    "    df = pd.concat((prev_years, current_year))\n",
    "    df.sort_values(by=['player_id', 'year', 'game_number'], axis=0,\n",
    "                   ascending=False, inplace=True)\n",
    "    # group dataframe by index\n",
    "    df = df.groupby(df.index)\n",
    "    \n",
    "    past_16 = df.nth(list(range(0,16))).fpts\n",
    "    weeks = df.nth(list(range(0,16))).game_number\n",
    "    years = df.nth(list(range(0,16))).year\n",
    "    \n",
    "    # get response variable, the next game fantasy points \n",
    "    resp = next_game['fpts']\n",
    "\n",
    "    for_return = pd.concat([past_16, years, weeks], axis=1)\n",
    "    for_return.sort_values(by=['player_id', 'year', 'game_number'], axis=0, ascending=False, inplace=True)\n",
    "    resp = resp.sort_index(ascending=False)\n",
    "    return for_return, resp"
   ]
  },
  {
   "cell_type": "code",
   "execution_count": null,
   "metadata": {},
   "outputs": [],
   "source": []
  }
 ],
 "metadata": {
  "kernelspec": {
   "display_name": "Python 3",
   "language": "python",
   "name": "python3"
  },
  "language_info": {
   "codemirror_mode": {
    "name": "ipython",
    "version": 3
   },
   "file_extension": ".py",
   "mimetype": "text/x-python",
   "name": "python",
   "nbconvert_exporter": "python",
   "pygments_lexer": "ipython3",
   "version": "3.7.3"
  }
 },
 "nbformat": 4,
 "nbformat_minor": 2
}
