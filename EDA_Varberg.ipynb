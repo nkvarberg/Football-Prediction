{
 "cells": [
  {
   "cell_type": "code",
   "execution_count": 20,
   "metadata": {},
   "outputs": [],
   "source": [
    "import pandas as pd\n",
    "import numpy as np\n",
    "from sklearn.linear_model import LinearRegression"
   ]
  },
  {
   "cell_type": "code",
   "execution_count": 16,
   "metadata": {},
   "outputs": [
    {
     "data": {
      "text/plain": [
       "array([1995, 1996, 1997, 1998, 1999, 2000, 2001, 2002, 2003, 2004, 2005,\n",
       "       2006, 2007, 2008, 2009, 2010, 2011, 2012, 2013, 2014, 2015, 2016,\n",
       "       2017])"
      ]
     },
     "execution_count": 16,
     "metadata": {},
     "output_type": "execute_result"
    }
   ],
   "source": [
    "np.unique(all_games.year)"
   ]
  },
  {
   "cell_type": "code",
   "execution_count": 2,
   "metadata": {},
   "outputs": [],
   "source": [
    "all_games = pd.read_csv('nfl-football-player-stats/games_1995.csv',index_col='player_id')\n",
    "all_players = pd.read_csv('nfl-football-player-stats/players_1995.csv',index_col='player_id')"
   ]
  },
  {
   "cell_type": "code",
   "execution_count": 3,
   "metadata": {},
   "outputs": [],
   "source": [
    "# dictionary that has fantasy value for each nfl stat\n",
    "half_ppr = {\n",
    "    'rushing_yards': 0.1,\n",
    "    'rushing_touchdowns': 6,\n",
    "    'receiving_receptions': 0.5,\n",
    "    'receiving_yards': 0.1,\n",
    "    'receiving_touchdowns': 6\n",
    "}"
   ]
  },
  {
   "cell_type": "code",
   "execution_count": 4,
   "metadata": {},
   "outputs": [],
   "source": [
    "# subset RB position by choosing only RBs with at least 5 rushing attempts\n",
    "# or receiving targets in a given nfl week.\n",
    "subset_position = {\n",
    "    'RB': [['rushing_attempts', 'receiving_targets'], 5]\n",
    "}"
   ]
  },
  {
   "cell_type": "code",
   "execution_count": 5,
   "metadata": {},
   "outputs": [],
   "source": [
    "def get_players_thatweek(all_games, all_players, position, year, nfl_week, subset_position):\n",
    "    # return pandas df with player_id as index and column 'name' as player name\n",
    "    ids = all_players[all_players.position == position].index\n",
    "    games = all_games.loc[ids]\n",
    "    stats = subset_position[position][0]\n",
    "    sum_threshold = subset_position[position][1]\n",
    "    # only take RBs with 5 rush attempts or receiving targets (>= sum_threshold)\n",
    "    worth_predicting = games[(games.year == year) & \n",
    "                             (games.game_number == nfl_week) &\n",
    "                             (np.sum(games[stats], axis=1) >= sum_threshold)]\n",
    "    ids = worth_predicting.index\n",
    "    for_df = all_players.loc[ids, 'name']\n",
    "    return pd.DataFrame(data=for_df)"
   ]
  },
  {
   "cell_type": "code",
   "execution_count": 8,
   "metadata": {},
   "outputs": [
    {
     "data": {
      "text/plain": [
       "(57, 1)"
      ]
     },
     "execution_count": 8,
     "metadata": {},
     "output_type": "execute_result"
    }
   ],
   "source": [
    "# example usage\n",
    "a = get_players_thatweek(all_games, all_players,'RB',2011,5,subset_position)\n",
    "a.shape"
   ]
  },
  {
   "cell_type": "code",
   "execution_count": 9,
   "metadata": {
    "scrolled": true
   },
   "outputs": [],
   "source": [
    "def get_features_response(players, all_games, year, nfl_week, points_dict):\n",
    "    games = all_games.loc[players.index]\n",
    "    \n",
    "    # compute fpts for each row\n",
    "    games['fpts'] = games['game_number']*0\n",
    "    for stat, value in zip(points_dict.keys(), points_dict.values()):\n",
    "        games['fpts'] = games['fpts'] + games[stat]*value\n",
    "    \n",
    "    prev_years = games[(games.year < year) &\n",
    "                       (games.game_number <= 16)]\n",
    "    current_year = games[(games.year == year) &\n",
    "                         (games.game_number < nfl_week)]\n",
    "    rest_year = games[(games.year == year) &\n",
    "                     (games.game_number>=nfl_week)]\n",
    "    df = pd.concat((prev_years, current_year))\n",
    "    df.sort_values(by=['player_id', 'year', 'game_number'], axis=0,\n",
    "                   ascending=False, inplace=True)\n",
    "    \n",
    "    \n",
    "    # group dataframe by index\n",
    "    df = df.groupby(df.index)\n",
    "    num_prev = df.fpts.agg('count').rename('num_prev')\n",
    "    last = df.nth([0]).groupby('player_id').agg('mean').fpts.rename('last')\n",
    "    next_3 = df.nth(list(range(1,4))).groupby('player_id').agg('mean').fpts.rename('next_3')\n",
    "    next_15 = df.nth(list(range(4,19))).groupby('player_id').agg('mean').fpts.rename('next_15')\n",
    "    to_debut = df.nth(list(range(19,300))).groupby('player_id').agg('mean').fpts.rename('to_debut')\n",
    "    \n",
    "    # get response variable, the rest of season ppg \n",
    "    ros_ppg = rest_year.groupby('player_id').fpts.mean().rename('ros_ppg', inplace=True)\n",
    "    #ros_games = rest_year.groupby('player_id').fpts.count().rename('ros_games', inplace=True)\n",
    "\n",
    "    for_return = players.join([num_prev,last, next_3, next_15, to_debut, ros_ppg], how='left')#,last,next_3,next_15, to_debut])\n",
    "    return for_return"
   ]
  },
  {
   "cell_type": "code",
   "execution_count": 10,
   "metadata": {},
   "outputs": [],
   "source": [
    "# example usage\n",
    "#get_features_response(a, all_games, 2011, 5, half_ppr)"
   ]
  },
  {
   "cell_type": "code",
   "execution_count": 78,
   "metadata": {},
   "outputs": [],
   "source": [
    "# Pretend its 2016, nfl week 5\n",
    "# Get all features and responses for Running Backs from START_YEAR to YEAR before NFL_WEEK\n",
    "POSITION = 'RB'\n",
    "START_YEAR = 2013\n",
    "YEAR = 2016\n",
    "NFL_WEEK = 5\n",
    "# features \n",
    "FEATURES = ['num_prev', 'last', 'next_3', 'next_15', 'to_debut']\n",
    "# response\n",
    "RESPONSE = ['ros_ppg']\n",
    "\n",
    "# append features and response each week to these lists\n",
    "feature_list = []\n",
    "response_list = []\n",
    "\n",
    "for year in range(START_YEAR, YEAR+1):   \n",
    "    \n",
    "    # if current year dont go past nfl week\n",
    "    if year == YEAR:\n",
    "        week_limit = NFL_WEEK-1\n",
    "    else: # if previous year don't go past regular season (nfl week 16)\n",
    "        week_limit = 16\n",
    "\n",
    "    for week in range(1,week_limit+1):\n",
    "        players = get_players_thatweek(all_games, all_players, POSITION, year, week, subset_position)\n",
    "        train = get_features_response(players, all_games, year, week, points_dict=half_ppr)\n",
    "        feature = train[FEATURES]\n",
    "        response = train[RESPONSE]\n",
    "        feature_list.append(feature)\n",
    "        response_list.append(response)\n",
    "\n",
    "# At the end concatenate feature and response lists \n",
    "#  into train_x and train_y dataframes\n",
    "train_x = pd.concat(feature_list)\n",
    "train_y = pd.concat(response_list)\n",
    "\n",
    "# fill NaN in train_x with zeros\n",
    "train_x = train_x.fillna(0)\n",
    "\n",
    "# Get test_x and test_y\n",
    "players = get_players_thatweek(all_games, all_players, POSITION, YEAR, NFL_WEEK, subset_position)\n",
    "test = get_features_response(players, all_games, YEAR, NFL_WEEK, points_dict=half_ppr)\n",
    "test_x = test[FEATURES]\n",
    "test_y = test[RESPONSE]\n",
    "\n",
    "# fill NaN in test_x with zeros\n",
    "test_x = test_x.fillna(0)"
   ]
  },
  {
   "cell_type": "code",
   "execution_count": 85,
   "metadata": {},
   "outputs": [
    {
     "name": "stdout",
     "output_type": "stream",
     "text": [
      "Intercept:\n",
      "[4.37520197]\n",
      "['num_prev', 'last', 'next_3', 'next_15', 'to_debut']\n",
      "[[-0.01226013  0.15071756  0.20960431  0.20734425  0.06766796]]\n"
     ]
    }
   ],
   "source": [
    "# Train a linear regression model to predict rest of season ppg for RBs\n",
    "lr = LinearRegression()\n",
    "lr = lr.fit(train_x, train_y)\n",
    "print('Intercept:')\n",
    "print(lr.intercept_)\n",
    "print(feat_list)\n",
    "print(lr.coef_)"
   ]
  },
  {
   "cell_type": "code",
   "execution_count": 86,
   "metadata": {},
   "outputs": [
    {
     "data": {
      "text/plain": [
       "0.3857776972616249"
      ]
     },
     "execution_count": 86,
     "metadata": {},
     "output_type": "execute_result"
    }
   ],
   "source": [
    "# score gives R^2 of prediction of test_x wrt test_y\n",
    "lr.score(test_x, test_y)"
   ]
  },
  {
   "cell_type": "code",
   "execution_count": null,
   "metadata": {},
   "outputs": [],
   "source": []
  }
 ],
 "metadata": {
  "kernelspec": {
   "display_name": "Python 3",
   "language": "python",
   "name": "python3"
  },
  "language_info": {
   "codemirror_mode": {
    "name": "ipython",
    "version": 3
   },
   "file_extension": ".py",
   "mimetype": "text/x-python",
   "name": "python",
   "nbconvert_exporter": "python",
   "pygments_lexer": "ipython3",
   "version": "3.6.8"
  }
 },
 "nbformat": 4,
 "nbformat_minor": 2
}
