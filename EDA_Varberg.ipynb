{
 "cells": [
  {
   "cell_type": "code",
   "execution_count": 98,
   "metadata": {},
   "outputs": [],
   "source": [
    "import pandas as pd\n",
    "import numpy as np"
   ]
  },
  {
   "cell_type": "code",
   "execution_count": 51,
   "metadata": {},
   "outputs": [],
   "source": [
    "games = pd.read_csv('nfl-football-player-stats/games_1995.csv')\n",
    "players = pd.read_csv('nfl-football-player-stats/players_1995.csv')"
   ]
  },
  {
   "cell_type": "code",
   "execution_count": 258,
   "metadata": {},
   "outputs": [
    {
     "data": {
      "text/plain": [
       "age                                    28-114\n",
       "date                               1995-09-03\n",
       "defense_interception_touchdowns             0\n",
       "defense_interception_yards                  0\n",
       "defense_interceptions                       0\n",
       "defense_sacks                               0\n",
       "defense_safeties                            0\n",
       "defense_tackle_assists                      0\n",
       "defense_tackles                             0\n",
       "field_goal_attempts                         0\n",
       "field_goal_makes                            0\n",
       "game_location                               H\n",
       "game_number                                 1\n",
       "game_won                                False\n",
       "kick_return_attempts                        0\n",
       "kick_return_touchdowns                      0\n",
       "kick_return_yards                           0\n",
       "opponent                                  KAN\n",
       "opponent_score                             34\n",
       "passing_attempts                            0\n",
       "passing_completions                         0\n",
       "passing_interceptions                       0\n",
       "passing_rating                              0\n",
       "passing_sacks                               0\n",
       "passing_sacks_yards_lost                    0\n",
       "passing_touchdowns                          0\n",
       "passing_yards                               0\n",
       "player_id                                1809\n",
       "player_team_score                          10\n",
       "point_after_attemps                         0\n",
       "point_after_makes                           0\n",
       "punt_return_attempts                        0\n",
       "punt_return_touchdowns                      0\n",
       "punt_return_yards                           0\n",
       "punting_attempts                            0\n",
       "punting_blocked                             0\n",
       "punting_yards                               0\n",
       "receiving_receptions                        0\n",
       "receiving_targets                           0\n",
       "receiving_touchdowns                        0\n",
       "receiving_yards                             0\n",
       "rushing_attempts                            0\n",
       "rushing_touchdowns                          0\n",
       "rushing_yards                               0\n",
       "team                                      SEA\n",
       "year                                     1995\n",
       "Name: 0, dtype: object"
      ]
     },
     "execution_count": 258,
     "metadata": {},
     "output_type": "execute_result"
    }
   ],
   "source": [
    "games.loc[0,]"
   ]
  },
  {
   "cell_type": "code",
   "execution_count": 266,
   "metadata": {},
   "outputs": [],
   "source": [
    "half_ppr = {\n",
    "    'rushing_yards': 0.1,\n",
    "    'rushing_touchdowns': 6,\n",
    "    'receiving_receptions': 0.5,\n",
    "    'receiving_yards': 0.1,\n",
    "    'receiving_touchdowns': 6\n",
    "}\n",
    "def get_ROS_stats(games, players, player_ids, position, year, nfl_week, points_dict):\n",
    "    # Returns pandas Dataframe with columns player_id, name, year, nfl_week, ROS_ppg, ROS_games\n",
    "    for_df = []\n",
    "    for p_id in player_ids:  \n",
    "        ROS = games[(games.player_id == p_id) & (games.year == year) & \n",
    "                    (games.game_number >= nfl_week) & (games.game_number <= 16)]\n",
    "        ROS_games = len(ROS)\n",
    "        ROS_pts = 0\n",
    "        for stat, value in zip(points_dict.keys(), points_dict.values()):\n",
    "            ROS_pts += sum(ROS[stat])*value\n",
    "        ROS_ppg = np.round(ROS_pts/ROS_games,2)\n",
    "        name = players[players['player_id'] == p_id].name.values[0]\n",
    "        for_df.append([p_id, name, year, nfl_week, ROS_ppg, ROS_games])\n",
    "    df = pd.DataFrame(for_df, columns =['player_id', 'name', 'year', 'nfl_week', 'ROS_ppg', 'ROS_games'])\n",
    "    return df"
   ]
  },
  {
   "cell_type": "code",
   "execution_count": 267,
   "metadata": {},
   "outputs": [
    {
     "data": {
      "text/html": [
       "<div>\n",
       "<style scoped>\n",
       "    .dataframe tbody tr th:only-of-type {\n",
       "        vertical-align: middle;\n",
       "    }\n",
       "\n",
       "    .dataframe tbody tr th {\n",
       "        vertical-align: top;\n",
       "    }\n",
       "\n",
       "    .dataframe thead th {\n",
       "        text-align: right;\n",
       "    }\n",
       "</style>\n",
       "<table border=\"1\" class=\"dataframe\">\n",
       "  <thead>\n",
       "    <tr style=\"text-align: right;\">\n",
       "      <th></th>\n",
       "      <th>player_id</th>\n",
       "      <th>name</th>\n",
       "      <th>year</th>\n",
       "      <th>nfl_week</th>\n",
       "      <th>ROS_ppg</th>\n",
       "      <th>ROS_games</th>\n",
       "    </tr>\n",
       "  </thead>\n",
       "  <tbody>\n",
       "    <tr>\n",
       "      <th>0</th>\n",
       "      <td>17463</td>\n",
       "      <td>Adrian Peterson</td>\n",
       "      <td>2011</td>\n",
       "      <td>5</td>\n",
       "      <td>16.61</td>\n",
       "      <td>8</td>\n",
       "    </tr>\n",
       "    <tr>\n",
       "      <th>1</th>\n",
       "      <td>7173</td>\n",
       "      <td>Arian Foster</td>\n",
       "      <td>2011</td>\n",
       "      <td>5</td>\n",
       "      <td>23.05</td>\n",
       "      <td>11</td>\n",
       "    </tr>\n",
       "  </tbody>\n",
       "</table>\n",
       "</div>"
      ],
      "text/plain": [
       "   player_id             name  year  nfl_week  ROS_ppg  ROS_games\n",
       "0      17463  Adrian Peterson  2011         5    16.61          8\n",
       "1       7173    Arian Foster   2011         5    23.05         11"
      ]
     },
     "execution_count": 267,
     "metadata": {},
     "output_type": "execute_result"
    }
   ],
   "source": [
    "# usage example to get ROS stats for AP and Foster in 2011\n",
    "df = get_ROS_stats(games, players, [17463, 7173], 'RB', 2011, 5, half_ppr)\n",
    "df"
   ]
  },
  {
   "cell_type": "code",
   "execution_count": null,
   "metadata": {},
   "outputs": [],
   "source": []
  }
 ],
 "metadata": {
  "kernelspec": {
   "display_name": "Python 3",
   "language": "python",
   "name": "python3"
  },
  "language_info": {
   "codemirror_mode": {
    "name": "ipython",
    "version": 3
   },
   "file_extension": ".py",
   "mimetype": "text/x-python",
   "name": "python",
   "nbconvert_exporter": "python",
   "pygments_lexer": "ipython3",
   "version": "3.6.4"
  }
 },
 "nbformat": 4,
 "nbformat_minor": 2
}
