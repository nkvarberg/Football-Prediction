{
 "cells": [
  {
   "cell_type": "markdown",
   "metadata": {},
   "source": [
    "**Models**"
   ]
  },
  {
   "cell_type": "markdown",
   "metadata": {},
   "source": [
    "**Wide Receiver**"
   ]
  },
  {
   "cell_type": "code",
   "execution_count": 17,
   "metadata": {
    "ExecuteTime": {
     "end_time": "2019-12-08T22:56:56.231809Z",
     "start_time": "2019-12-08T22:56:56.223721Z"
    }
   },
   "outputs": [],
   "source": [
    "import pandas as pd\n",
    "import numpy as np\n",
    "from sklearn.linear_model import LinearRegression\n",
    "from sklearn.metrics import mean_absolute_error\n",
    "from sklearn.metrics import mean_squared_error\n",
    "from statsmodels.tsa.arima_model import ARMA\n",
    "from sklearn.preprocessing import StandardScaler\n",
    "from sklearn.linear_model import LinearRegression\n",
    "from sklearn.ensemble import RandomForestRegressor\n",
    "from sklearn.feature_selection import RFE, RFECV\n",
    "import matplotlib.pyplot as plt\n",
    "%matplotlib inline\n",
    "pd.set_option('display.max_columns', 50)"
   ]
  },
  {
   "cell_type": "code",
   "execution_count": 18,
   "metadata": {
    "ExecuteTime": {
     "end_time": "2019-12-08T22:56:58.790360Z",
     "start_time": "2019-12-08T22:56:56.234249Z"
    }
   },
   "outputs": [],
   "source": [
    "all_games = pd.read_csv('nfl-football-player-stats/games_1995.csv')\n",
    "all_games.drop([440917], inplace=True) # delete weird Lagerrete Blount double game\n",
    "all_games.loc[all_games['team'] == 'SDG', 'team'] = 'LAC'\n",
    "all_games.loc[all_games['team'] == 'STL', 'team'] = 'LAR'\n",
    "all_games.loc[all_games['opponent'] == 'SDG', 'opponent'] = 'LAC'\n",
    "all_games.loc[all_games['opponent'] == 'STL', 'opponent'] = 'LAR'\n",
    "all_games = all_games.set_index('player_id')\n",
    "all_players = pd.read_csv('nfl-football-player-stats/players_1995.csv',index_col='player_id')"
   ]
  },
  {
   "cell_type": "code",
   "execution_count": 19,
   "metadata": {
    "ExecuteTime": {
     "end_time": "2019-12-08T22:56:58.824403Z",
     "start_time": "2019-12-08T22:56:58.792639Z"
    },
    "scrolled": true
   },
   "outputs": [
    {
     "data": {
      "text/html": [
       "<div>\n",
       "<style scoped>\n",
       "    .dataframe tbody tr th:only-of-type {\n",
       "        vertical-align: middle;\n",
       "    }\n",
       "\n",
       "    .dataframe tbody tr th {\n",
       "        vertical-align: top;\n",
       "    }\n",
       "\n",
       "    .dataframe thead th {\n",
       "        text-align: right;\n",
       "    }\n",
       "</style>\n",
       "<table border=\"1\" class=\"dataframe\">\n",
       "  <thead>\n",
       "    <tr style=\"text-align: right;\">\n",
       "      <th></th>\n",
       "      <th>year</th>\n",
       "      <th>game_number</th>\n",
       "      <th>name</th>\n",
       "      <th>team</th>\n",
       "      <th>date</th>\n",
       "      <th>log_draft_position</th>\n",
       "      <th>log_num_games</th>\n",
       "      <th>ewma_fpts</th>\n",
       "      <th>ewma_team_rush_attempts</th>\n",
       "      <th>ewma_team_rush_percentage</th>\n",
       "      <th>ewma_team_passing_rating</th>\n",
       "      <th>ewma_rushing_attempts</th>\n",
       "      <th>ewma_receiving_targets</th>\n",
       "      <th>DY/P</th>\n",
       "      <th>TO</th>\n",
       "      <th>next_fpts</th>\n",
       "      <th>fpts</th>\n",
       "    </tr>\n",
       "    <tr>\n",
       "      <th>player_id</th>\n",
       "      <th></th>\n",
       "      <th></th>\n",
       "      <th></th>\n",
       "      <th></th>\n",
       "      <th></th>\n",
       "      <th></th>\n",
       "      <th></th>\n",
       "      <th></th>\n",
       "      <th></th>\n",
       "      <th></th>\n",
       "      <th></th>\n",
       "      <th></th>\n",
       "      <th></th>\n",
       "      <th></th>\n",
       "      <th></th>\n",
       "      <th></th>\n",
       "      <th></th>\n",
       "    </tr>\n",
       "  </thead>\n",
       "  <tbody>\n",
       "    <tr>\n",
       "      <th>19449</th>\n",
       "      <td>2014</td>\n",
       "      <td>1</td>\n",
       "      <td>Emmanuel Sanders</td>\n",
       "      <td>DEN</td>\n",
       "      <td>2014-09-07</td>\n",
       "      <td>4.406719</td>\n",
       "      <td>4.043051</td>\n",
       "      <td>8.677391</td>\n",
       "      <td>28.862513</td>\n",
       "      <td>0.502044</td>\n",
       "      <td>111.286476</td>\n",
       "      <td>0.166838</td>\n",
       "      <td>6.293531</td>\n",
       "      <td>5.26114</td>\n",
       "      <td>2.00</td>\n",
       "      <td>14.6</td>\n",
       "      <td>11.8</td>\n",
       "    </tr>\n",
       "    <tr>\n",
       "      <th>7061</th>\n",
       "      <td>2014</td>\n",
       "      <td>1</td>\n",
       "      <td>Malcom Floyd</td>\n",
       "      <td>LAC</td>\n",
       "      <td>2014-09-08</td>\n",
       "      <td>5.541264</td>\n",
       "      <td>4.510860</td>\n",
       "      <td>10.243705</td>\n",
       "      <td>30.846549</td>\n",
       "      <td>0.581700</td>\n",
       "      <td>100.618927</td>\n",
       "      <td>0.000000</td>\n",
       "      <td>5.847243</td>\n",
       "      <td>4.08066</td>\n",
       "      <td>1.25</td>\n",
       "      <td>0.0</td>\n",
       "      <td>13.0</td>\n",
       "    </tr>\n",
       "    <tr>\n",
       "      <th>4524</th>\n",
       "      <td>2014</td>\n",
       "      <td>1</td>\n",
       "      <td>Riley Cooper</td>\n",
       "      <td>PHI</td>\n",
       "      <td>2014-09-07</td>\n",
       "      <td>5.068904</td>\n",
       "      <td>4.043051</td>\n",
       "      <td>8.774422</td>\n",
       "      <td>30.637109</td>\n",
       "      <td>0.587580</td>\n",
       "      <td>103.054470</td>\n",
       "      <td>0.000000</td>\n",
       "      <td>5.490869</td>\n",
       "      <td>5.11672</td>\n",
       "      <td>1.50</td>\n",
       "      <td>1.3</td>\n",
       "      <td>4.9</td>\n",
       "    </tr>\n",
       "    <tr>\n",
       "      <th>24742</th>\n",
       "      <td>2014</td>\n",
       "      <td>1</td>\n",
       "      <td>Kendall Wright</td>\n",
       "      <td>TEN</td>\n",
       "      <td>2014-09-07</td>\n",
       "      <td>2.995732</td>\n",
       "      <td>3.465736</td>\n",
       "      <td>10.476476</td>\n",
       "      <td>30.079042</td>\n",
       "      <td>0.588796</td>\n",
       "      <td>84.146077</td>\n",
       "      <td>0.008651</td>\n",
       "      <td>8.514845</td>\n",
       "      <td>5.91250</td>\n",
       "      <td>2.75</td>\n",
       "      <td>4.6</td>\n",
       "      <td>13.6</td>\n",
       "    </tr>\n",
       "    <tr>\n",
       "      <th>2688</th>\n",
       "      <td>2014</td>\n",
       "      <td>1</td>\n",
       "      <td>Mike Brown</td>\n",
       "      <td>JAX</td>\n",
       "      <td>2014-09-07</td>\n",
       "      <td>5.541264</td>\n",
       "      <td>2.639057</td>\n",
       "      <td>6.036812</td>\n",
       "      <td>23.762526</td>\n",
       "      <td>0.513580</td>\n",
       "      <td>76.304392</td>\n",
       "      <td>0.000000</td>\n",
       "      <td>4.877498</td>\n",
       "      <td>5.07082</td>\n",
       "      <td>3.20</td>\n",
       "      <td>0.0</td>\n",
       "      <td>5.1</td>\n",
       "    </tr>\n",
       "  </tbody>\n",
       "</table>\n",
       "</div>"
      ],
      "text/plain": [
       "           year  game_number               name team        date  \\\n",
       "player_id                                                          \n",
       "19449      2014            1  Emmanuel Sanders   DEN  2014-09-07   \n",
       "7061       2014            1      Malcom Floyd   LAC  2014-09-08   \n",
       "4524       2014            1       Riley Cooper  PHI  2014-09-07   \n",
       "24742      2014            1     Kendall Wright  TEN  2014-09-07   \n",
       "2688       2014            1         Mike Brown  JAX  2014-09-07   \n",
       "\n",
       "           log_draft_position  log_num_games  ewma_fpts  \\\n",
       "player_id                                                 \n",
       "19449                4.406719       4.043051   8.677391   \n",
       "7061                 5.541264       4.510860  10.243705   \n",
       "4524                 5.068904       4.043051   8.774422   \n",
       "24742                2.995732       3.465736  10.476476   \n",
       "2688                 5.541264       2.639057   6.036812   \n",
       "\n",
       "           ewma_team_rush_attempts  ewma_team_rush_percentage  \\\n",
       "player_id                                                       \n",
       "19449                    28.862513                   0.502044   \n",
       "7061                     30.846549                   0.581700   \n",
       "4524                     30.637109                   0.587580   \n",
       "24742                    30.079042                   0.588796   \n",
       "2688                     23.762526                   0.513580   \n",
       "\n",
       "           ewma_team_passing_rating  ewma_rushing_attempts  \\\n",
       "player_id                                                    \n",
       "19449                    111.286476               0.166838   \n",
       "7061                     100.618927               0.000000   \n",
       "4524                     103.054470               0.000000   \n",
       "24742                     84.146077               0.008651   \n",
       "2688                      76.304392               0.000000   \n",
       "\n",
       "           ewma_receiving_targets     DY/P    TO  next_fpts  fpts  \n",
       "player_id                                                          \n",
       "19449                    6.293531  5.26114  2.00       14.6  11.8  \n",
       "7061                     5.847243  4.08066  1.25        0.0  13.0  \n",
       "4524                     5.490869  5.11672  1.50        1.3   4.9  \n",
       "24742                    8.514845  5.91250  2.75        4.6  13.6  \n",
       "2688                     4.877498  5.07082  3.20        0.0   5.1  "
      ]
     },
     "execution_count": 19,
     "metadata": {},
     "output_type": "execute_result"
    }
   ],
   "source": [
    "data = pd.read_csv('wrs_2014_2017.csv', index_col='player_id')\n",
    "data.head()"
   ]
  },
  {
   "cell_type": "code",
   "execution_count": 20,
   "metadata": {
    "ExecuteTime": {
     "end_time": "2019-12-08T22:58:51.273100Z",
     "start_time": "2019-12-08T22:56:58.826216Z"
    }
   },
   "outputs": [
    {
     "name": "stderr",
     "output_type": "stream",
     "text": [
      "/home/s/anaconda3/lib/python3.7/site-packages/ipykernel_launcher.py:25: DataConversionWarning: A column-vector y was passed when a 1d array was expected. Please change the shape of y to (n_samples,), for example using ravel().\n",
      "/home/s/anaconda3/lib/python3.7/site-packages/ipykernel_launcher.py:25: DataConversionWarning: A column-vector y was passed when a 1d array was expected. Please change the shape of y to (n_samples,), for example using ravel().\n",
      "/home/s/anaconda3/lib/python3.7/site-packages/ipykernel_launcher.py:25: DataConversionWarning: A column-vector y was passed when a 1d array was expected. Please change the shape of y to (n_samples,), for example using ravel().\n",
      "/home/s/anaconda3/lib/python3.7/site-packages/ipykernel_launcher.py:25: DataConversionWarning: A column-vector y was passed when a 1d array was expected. Please change the shape of y to (n_samples,), for example using ravel().\n",
      "/home/s/anaconda3/lib/python3.7/site-packages/ipykernel_launcher.py:25: DataConversionWarning: A column-vector y was passed when a 1d array was expected. Please change the shape of y to (n_samples,), for example using ravel().\n",
      "/home/s/anaconda3/lib/python3.7/site-packages/ipykernel_launcher.py:25: DataConversionWarning: A column-vector y was passed when a 1d array was expected. Please change the shape of y to (n_samples,), for example using ravel().\n",
      "/home/s/anaconda3/lib/python3.7/site-packages/ipykernel_launcher.py:25: DataConversionWarning: A column-vector y was passed when a 1d array was expected. Please change the shape of y to (n_samples,), for example using ravel().\n",
      "/home/s/anaconda3/lib/python3.7/site-packages/ipykernel_launcher.py:25: DataConversionWarning: A column-vector y was passed when a 1d array was expected. Please change the shape of y to (n_samples,), for example using ravel().\n",
      "/home/s/anaconda3/lib/python3.7/site-packages/ipykernel_launcher.py:25: DataConversionWarning: A column-vector y was passed when a 1d array was expected. Please change the shape of y to (n_samples,), for example using ravel().\n",
      "/home/s/anaconda3/lib/python3.7/site-packages/ipykernel_launcher.py:25: DataConversionWarning: A column-vector y was passed when a 1d array was expected. Please change the shape of y to (n_samples,), for example using ravel().\n",
      "/home/s/anaconda3/lib/python3.7/site-packages/ipykernel_launcher.py:25: DataConversionWarning: A column-vector y was passed when a 1d array was expected. Please change the shape of y to (n_samples,), for example using ravel().\n",
      "/home/s/anaconda3/lib/python3.7/site-packages/ipykernel_launcher.py:25: DataConversionWarning: A column-vector y was passed when a 1d array was expected. Please change the shape of y to (n_samples,), for example using ravel().\n",
      "/home/s/anaconda3/lib/python3.7/site-packages/ipykernel_launcher.py:25: DataConversionWarning: A column-vector y was passed when a 1d array was expected. Please change the shape of y to (n_samples,), for example using ravel().\n",
      "/home/s/anaconda3/lib/python3.7/site-packages/ipykernel_launcher.py:25: DataConversionWarning: A column-vector y was passed when a 1d array was expected. Please change the shape of y to (n_samples,), for example using ravel().\n",
      "/home/s/anaconda3/lib/python3.7/site-packages/ipykernel_launcher.py:25: DataConversionWarning: A column-vector y was passed when a 1d array was expected. Please change the shape of y to (n_samples,), for example using ravel().\n",
      "/home/s/anaconda3/lib/python3.7/site-packages/ipykernel_launcher.py:25: DataConversionWarning: A column-vector y was passed when a 1d array was expected. Please change the shape of y to (n_samples,), for example using ravel().\n",
      "/home/s/anaconda3/lib/python3.7/site-packages/ipykernel_launcher.py:25: DataConversionWarning: A column-vector y was passed when a 1d array was expected. Please change the shape of y to (n_samples,), for example using ravel().\n",
      "/home/s/anaconda3/lib/python3.7/site-packages/ipykernel_launcher.py:25: DataConversionWarning: A column-vector y was passed when a 1d array was expected. Please change the shape of y to (n_samples,), for example using ravel().\n",
      "/home/s/anaconda3/lib/python3.7/site-packages/ipykernel_launcher.py:25: DataConversionWarning: A column-vector y was passed when a 1d array was expected. Please change the shape of y to (n_samples,), for example using ravel().\n",
      "/home/s/anaconda3/lib/python3.7/site-packages/ipykernel_launcher.py:25: DataConversionWarning: A column-vector y was passed when a 1d array was expected. Please change the shape of y to (n_samples,), for example using ravel().\n",
      "/home/s/anaconda3/lib/python3.7/site-packages/ipykernel_launcher.py:25: DataConversionWarning: A column-vector y was passed when a 1d array was expected. Please change the shape of y to (n_samples,), for example using ravel().\n",
      "/home/s/anaconda3/lib/python3.7/site-packages/ipykernel_launcher.py:25: DataConversionWarning: A column-vector y was passed when a 1d array was expected. Please change the shape of y to (n_samples,), for example using ravel().\n",
      "/home/s/anaconda3/lib/python3.7/site-packages/ipykernel_launcher.py:25: DataConversionWarning: A column-vector y was passed when a 1d array was expected. Please change the shape of y to (n_samples,), for example using ravel().\n",
      "/home/s/anaconda3/lib/python3.7/site-packages/ipykernel_launcher.py:25: DataConversionWarning: A column-vector y was passed when a 1d array was expected. Please change the shape of y to (n_samples,), for example using ravel().\n",
      "/home/s/anaconda3/lib/python3.7/site-packages/ipykernel_launcher.py:25: DataConversionWarning: A column-vector y was passed when a 1d array was expected. Please change the shape of y to (n_samples,), for example using ravel().\n"
     ]
    },
    {
     "name": "stdout",
     "output_type": "stream",
     "text": [
      "[240.53932387223148, 240.22082697983342, 240.05896053470877, 239.89566810123864, 240.22625328785884]\n",
      "[27.395029062851822, 27.37720374529186, 27.37635832468122, 27.366832088144626, 27.38755892124906]\n"
     ]
    }
   ],
   "source": [
    "# Tuning parameter for RF\n",
    "# 400 is best\n",
    "from sklearn.model_selection import KFold\n",
    "kf = KFold(n_splits=5, shuffle=True, random_state=3)\n",
    "\n",
    "#get 2014-2016\n",
    "features = ['log_draft_position','log_num_games','ewma_fpts','ewma_team_rush_attempts','ewma_team_rush_percentage','ewma_team_passing_rating','ewma_rushing_attempts','ewma_receiving_targets','DY/P','TO']\n",
    "resp = ['next_fpts']\n",
    "trainX2016 = data.loc[data['year'] < 2017][features]\n",
    "trainy2016 = data.loc[data['year'] < 2017][resp]\n",
    "\n",
    "# re index\n",
    "trainX2016.reset_index(drop=True, inplace=True)\n",
    "trainy2016.reset_index(drop=True, inplace=True)\n",
    "\n",
    "range_est = [250,300,350,400,450]\n",
    "mses = [0,0,0,0,0]\n",
    "maes = [0,0,0,0,0]\n",
    "\n",
    "for train_index, test_index in kf.split(trainX2016):\n",
    "    X_train, X_test = trainX2016.iloc[train_index], trainX2016.iloc[test_index]\n",
    "    y_train, y_test = trainy2016.iloc[train_index], trainy2016.iloc[test_index]\n",
    "    for j in range(len(range_est)):\n",
    "        rf_model = RandomForestRegressor(n_estimators=range_est[j], random_state = 35)\n",
    "        rf_model.fit(X_train, y_train)\n",
    "        preds = rf_model.predict(X_test)\n",
    "        mses[j] += mean_squared_error(y_test, preds)\n",
    "        maes[j] += mean_absolute_error(y_test, preds)\n",
    "print(mses)\n",
    "print(maes)"
   ]
  },
  {
   "cell_type": "code",
   "execution_count": 21,
   "metadata": {
    "ExecuteTime": {
     "end_time": "2019-12-08T23:00:08.833939Z",
     "start_time": "2019-12-08T22:58:51.274867Z"
    },
    "scrolled": true
   },
   "outputs": [
    {
     "name": "stdout",
     "output_type": "stream",
     "text": [
      "1\n",
      "Score:  -0.1906173685067627\n",
      "MAE before feature selection:  5.457318596348154\n"
     ]
    },
    {
     "data": {
      "image/png": "[encoded data removed]",
      "text/plain": [
       "<Figure size 432x288 with 1 Axes>"
      ]
     },
     "metadata": {
      "needs_background": "light"
     },
     "output_type": "display_data"
    },
    {
     "name": "stderr",
     "output_type": "stream",
     "text": [
      "/home/s/anaconda3/lib/python3.7/site-packages/sklearn/utils/validation.py:724: DataConversionWarning: A column-vector y was passed when a 1d array was expected. Please change the shape of y to (n_samples, ), for example using ravel().\n",
      "  y = column_or_1d(y, warn=True)\n",
      "/home/s/anaconda3/lib/python3.7/site-packages/ipykernel_launcher.py:92: DataConversionWarning: A column-vector y was passed when a 1d array was expected. Please change the shape of y to (n_samples,), for example using ravel().\n"
     ]
    },
    {
     "name": "stdout",
     "output_type": "stream",
     "text": [
      "[False False  True False False False False False False False]\n",
      "[ 5  8  1  6 10  3  7  2  4  9]\n",
      "MAE after feature selection:  5.504317694394726\n",
      "2\n",
      "Score:  0.22410269310810582\n",
      "MAE before feature selection:  5.679330243030845\n"
     ]
    },
    {
     "data": {
      "image/png": "[encoded data removed]",
      "text/plain": [
       "<Figure size 432x288 with 1 Axes>"
      ]
     },
     "metadata": {
      "needs_background": "light"
     },
     "output_type": "display_data"
    },
    {
     "name": "stderr",
     "output_type": "stream",
     "text": [
      "/home/s/anaconda3/lib/python3.7/site-packages/sklearn/utils/validation.py:724: DataConversionWarning: A column-vector y was passed when a 1d array was expected. Please change the shape of y to (n_samples, ), for example using ravel().\n",
      "  y = column_or_1d(y, warn=True)\n",
      "/home/s/anaconda3/lib/python3.7/site-packages/ipykernel_launcher.py:92: DataConversionWarning: A column-vector y was passed when a 1d array was expected. Please change the shape of y to (n_samples,), for example using ravel().\n"
     ]
    },
    {
     "name": "stdout",
     "output_type": "stream",
     "text": [
      "[False False  True False False False False False False False]\n",
      "[ 6  8  1  7 10  3  5  2  4  9]\n",
      "MAE after feature selection:  5.6572956945931505\n",
      "3\n",
      "Score:  -0.17220764402848365\n",
      "MAE before feature selection:  5.17116454623304\n"
     ]
    },
    {
     "data": {
      "image/png": "[encoded data removed]",
      "text/plain": [
       "<Figure size 432x288 with 1 Axes>"
      ]
     },
     "metadata": {
      "needs_background": "light"
     },
     "output_type": "display_data"
    },
    {
     "name": "stderr",
     "output_type": "stream",
     "text": [
      "/home/s/anaconda3/lib/python3.7/site-packages/sklearn/utils/validation.py:724: DataConversionWarning: A column-vector y was passed when a 1d array was expected. Please change the shape of y to (n_samples, ), for example using ravel().\n",
      "  y = column_or_1d(y, warn=True)\n",
      "/home/s/anaconda3/lib/python3.7/site-packages/ipykernel_launcher.py:92: DataConversionWarning: A column-vector y was passed when a 1d array was expected. Please change the shape of y to (n_samples,), for example using ravel().\n"
     ]
    },
    {
     "name": "stdout",
     "output_type": "stream",
     "text": [
      "[False False  True False False False False False False False]\n",
      "[ 6  8  1  7  9  3  5  2  4 10]\n",
      "MAE after feature selection:  5.148482276166836\n",
      "4\n",
      "Score:  0.24391908668701753\n",
      "MAE before feature selection:  4.998274726404131\n"
     ]
    },
    {
     "data": {
      "image/png": "[encoded data removed]",
      "text/plain": [
       "<Figure size 432x288 with 1 Axes>"
      ]
     },
     "metadata": {
      "needs_background": "light"
     },
     "output_type": "display_data"
    },
    {
     "name": "stderr",
     "output_type": "stream",
     "text": [
      "/home/s/anaconda3/lib/python3.7/site-packages/sklearn/utils/validation.py:724: DataConversionWarning: A column-vector y was passed when a 1d array was expected. Please change the shape of y to (n_samples, ), for example using ravel().\n",
      "  y = column_or_1d(y, warn=True)\n",
      "/home/s/anaconda3/lib/python3.7/site-packages/ipykernel_launcher.py:92: DataConversionWarning: A column-vector y was passed when a 1d array was expected. Please change the shape of y to (n_samples,), for example using ravel().\n"
     ]
    },
    {
     "name": "stdout",
     "output_type": "stream",
     "text": [
      "[False False  True False False False False False False False]\n",
      "[ 6  8  1  9  7  3  5  2  4 10]\n",
      "MAE after feature selection:  5.039404968425284\n",
      "5\n",
      "Score:  0.2750483433042028\n",
      "MAE before feature selection:  4.646994330971941\n"
     ]
    },
    {
     "data": {
      "image/png": "[encoded data removed]",
      "text/plain": [
       "<Figure size 432x288 with 1 Axes>"
      ]
     },
     "metadata": {
      "needs_background": "light"
     },
     "output_type": "display_data"
    },
    {
     "name": "stderr",
     "output_type": "stream",
     "text": [
      "/home/s/anaconda3/lib/python3.7/site-packages/sklearn/utils/validation.py:724: DataConversionWarning: A column-vector y was passed when a 1d array was expected. Please change the shape of y to (n_samples, ), for example using ravel().\n",
      "  y = column_or_1d(y, warn=True)\n",
      "/home/s/anaconda3/lib/python3.7/site-packages/ipykernel_launcher.py:92: DataConversionWarning: A column-vector y was passed when a 1d array was expected. Please change the shape of y to (n_samples,), for example using ravel().\n"
     ]
    },
    {
     "name": "stdout",
     "output_type": "stream",
     "text": [
      "[False False  True False False  True False  True False False]\n",
      "[4 6 1 7 5 1 3 1 2 8]\n",
      "MAE after feature selection:  4.676028393993015\n",
      "6\n",
      "Score:  -0.049730096250370615\n",
      "MAE before feature selection:  5.020033643049366\n"
     ]
    },
    {
     "data": {
      "image/png": "[encoded data removed]",
      "text/plain": [
       "<Figure size 432x288 with 1 Axes>"
      ]
     },
     "metadata": {
      "needs_background": "light"
     },
     "output_type": "display_data"
    },
    {
     "name": "stderr",
     "output_type": "stream",
     "text": [
      "/home/s/anaconda3/lib/python3.7/site-packages/sklearn/utils/validation.py:724: DataConversionWarning: A column-vector y was passed when a 1d array was expected. Please change the shape of y to (n_samples, ), for example using ravel().\n",
      "  y = column_or_1d(y, warn=True)\n",
      "/home/s/anaconda3/lib/python3.7/site-packages/ipykernel_launcher.py:92: DataConversionWarning: A column-vector y was passed when a 1d array was expected. Please change the shape of y to (n_samples,), for example using ravel().\n"
     ]
    },
    {
     "name": "stdout",
     "output_type": "stream",
     "text": [
      "[False False  True False False False False  True False False]\n",
      "[4 7 1 8 6 2 5 1 3 9]\n",
      "MAE after feature selection:  5.125828760898994\n",
      "7\n",
      "Score:  0.12041419324333646\n",
      "MAE before feature selection:  5.092322199660204\n"
     ]
    },
    {
     "data": {
      "image/png": "[encoded data removed]",
      "text/plain": [
       "<Figure size 432x288 with 1 Axes>"
      ]
     },
     "metadata": {
      "needs_background": "light"
     },
     "output_type": "display_data"
    },
    {
     "name": "stderr",
     "output_type": "stream",
     "text": [
      "/home/s/anaconda3/lib/python3.7/site-packages/sklearn/utils/validation.py:724: DataConversionWarning: A column-vector y was passed when a 1d array was expected. Please change the shape of y to (n_samples, ), for example using ravel().\n",
      "  y = column_or_1d(y, warn=True)\n",
      "/home/s/anaconda3/lib/python3.7/site-packages/ipykernel_launcher.py:92: DataConversionWarning: A column-vector y was passed when a 1d array was expected. Please change the shape of y to (n_samples,), for example using ravel().\n"
     ]
    },
    {
     "name": "stdout",
     "output_type": "stream",
     "text": [
      "[ True False  True False False  True False  True  True False]\n",
      "[1 4 1 6 3 1 2 1 1 5]\n",
      "MAE after feature selection:  5.038298534420594\n",
      "8\n",
      "Score:  0.1511434443871228\n",
      "MAE before feature selection:  5.069551566021095\n"
     ]
    },
    {
     "data": {
      "image/png": "[encoded data removed]",
      "text/plain": [
       "<Figure size 432x288 with 1 Axes>"
      ]
     },
     "metadata": {
      "needs_background": "light"
     },
     "output_type": "display_data"
    },
    {
     "name": "stderr",
     "output_type": "stream",
     "text": [
      "/home/s/anaconda3/lib/python3.7/site-packages/sklearn/utils/validation.py:724: DataConversionWarning: A column-vector y was passed when a 1d array was expected. Please change the shape of y to (n_samples, ), for example using ravel().\n",
      "  y = column_or_1d(y, warn=True)\n",
      "/home/s/anaconda3/lib/python3.7/site-packages/ipykernel_launcher.py:92: DataConversionWarning: A column-vector y was passed when a 1d array was expected. Please change the shape of y to (n_samples,), for example using ravel().\n"
     ]
    },
    {
     "name": "stdout",
     "output_type": "stream",
     "text": [
      "[ True False  True False False  True  True  True  True False]\n",
      "[1 3 1 5 2 1 1 1 1 4]\n",
      "MAE after feature selection:  5.09088967278228\n",
      "9\n",
      "Score:  0.2590497326511402\n",
      "MAE before feature selection:  4.854885110834987\n"
     ]
    },
    {
     "data": {
      "image/png": "[encoded data removed]",
      "text/plain": [
       "<Figure size 432x288 with 1 Axes>"
      ]
     },
     "metadata": {
      "needs_background": "light"
     },
     "output_type": "display_data"
    },
    {
     "name": "stderr",
     "output_type": "stream",
     "text": [
      "/home/s/anaconda3/lib/python3.7/site-packages/sklearn/utils/validation.py:724: DataConversionWarning: A column-vector y was passed when a 1d array was expected. Please change the shape of y to (n_samples, ), for example using ravel().\n",
      "  y = column_or_1d(y, warn=True)\n",
      "/home/s/anaconda3/lib/python3.7/site-packages/ipykernel_launcher.py:92: DataConversionWarning: A column-vector y was passed when a 1d array was expected. Please change the shape of y to (n_samples,), for example using ravel().\n"
     ]
    },
    {
     "name": "stdout",
     "output_type": "stream",
     "text": [
      "[False False  True False False False False  True False False]\n",
      "[4 7 1 9 6 2 5 1 3 8]\n",
      "MAE after feature selection:  4.918705136582877\n",
      "10\n",
      "Score:  0.20987735576915623\n",
      "MAE before feature selection:  5.831999553951059\n"
     ]
    },
    {
     "data": {
      "image/png": "[encoded data removed]",
      "text/plain": [
       "<Figure size 432x288 with 1 Axes>"
      ]
     },
     "metadata": {
      "needs_background": "light"
     },
     "output_type": "display_data"
    },
    {
     "name": "stderr",
     "output_type": "stream",
     "text": [
      "/home/s/anaconda3/lib/python3.7/site-packages/sklearn/utils/validation.py:724: DataConversionWarning: A column-vector y was passed when a 1d array was expected. Please change the shape of y to (n_samples, ), for example using ravel().\n",
      "  y = column_or_1d(y, warn=True)\n",
      "/home/s/anaconda3/lib/python3.7/site-packages/ipykernel_launcher.py:92: DataConversionWarning: A column-vector y was passed when a 1d array was expected. Please change the shape of y to (n_samples,), for example using ravel().\n"
     ]
    },
    {
     "name": "stdout",
     "output_type": "stream",
     "text": [
      "[False False  True False False  True False  True  True False]\n",
      "[3 5 1 7 4 1 2 1 1 6]\n",
      "MAE after feature selection:  5.8083609156853315\n"
     ]
    }
   ],
   "source": [
    "# Training on the 2017 season\n",
    "MSEarma = []\n",
    "MAEarma = []\n",
    "MSElr = []\n",
    "MAElr = []\n",
    "MSErf = []\n",
    "MAErf = []\n",
    "MSEbase = []\n",
    "MAEbase = []\n",
    "\n",
    "MSElrA = []\n",
    "MAElrA = []\n",
    "\n",
    "for w in range(1,11):\n",
    "    print(w)\n",
    "    WEEK = w\n",
    "    POSITION = 'WR'\n",
    "    YEAR = 2017\n",
    "\n",
    "    features = ['log_draft_position','log_num_games','ewma_fpts','ewma_team_rush_attempts','ewma_team_rush_percentage','ewma_team_passing_rating','ewma_rushing_attempts','ewma_receiving_targets','DY/P','TO']\n",
    "    resp = ['next_fpts']\n",
    "    X_train = data.loc[data['year'] < 2017][features]\n",
    "    X_traincurr = data.loc[(data['year'] == 2017) & (data['game_number'] < WEEK)][features]\n",
    "    if len(X_traincurr)>0:\n",
    "        X_train = X_train.append(X_traincurr)\n",
    "    y_train = data.loc[data['year'] < 2017][resp]\n",
    "    y_traincurr = data.loc[(data['year'] == 2017) & (data['game_number'] < WEEK)][resp]\n",
    "    if len(y_traincurr)>0:\n",
    "        y_train = y_train.append(y_traincurr) \n",
    "    X_test = data.loc[(data['year'] == 2017) & (data['game_number']==WEEK)][features]\n",
    "    y_test = data.loc[(data['year'] == 2017) & (data['game_number']==WEEK)][resp]\n",
    "\n",
    "    # Fitting models\n",
    "\n",
    "    # naive approach\n",
    "    preds = data.loc[(data['year'] == 2017) & (data['game_number']==WEEK)]['fpts']\n",
    "    MAEbase.append(mean_absolute_error(y_test, preds))\n",
    "    MSEbase.append(mean_squared_error(y_test, preds))\n",
    "\n",
    "    # ARMA\n",
    "    '''\n",
    "    players = get_players_thatweek(all_games, all_players, POSITION, YEAR, WEEK, subset_position)\n",
    "    X, resp = get_features_response_ARMA(players, all_games, YEAR, WEEK, half_ppr)\n",
    "    preds = []\n",
    "    for i in resp.index:\n",
    "        if type(X.loc[i]['fpts']) != np.float64:\n",
    "            past_fpts = X.loc[i]['fpts'].values\n",
    "            model = ARMA(past_fpts, (0,1))\n",
    "            model_fit = model.fit(disp=0)\n",
    "            preds.append(model_fit.forecast()[0][0])\n",
    "        else:\n",
    "            resp.drop([i],inplace=True)\n",
    "    MAEarma.append(mean_absolute_error(resp, preds))\n",
    "    MSEarma.append(mean_squared_error(resp, preds))\n",
    "    '''\n",
    "\n",
    "    # linear regression\n",
    "    XtrainS = StandardScaler().fit_transform(X_train)\n",
    "    XtestS = StandardScaler().fit_transform(X_test)\n",
    "    XtrainT = XtrainS.copy()\n",
    "    XtestT = XtestS.copy()\n",
    "    lr = LinearRegression()\n",
    "    lr.fit(XtrainS, y_train)\n",
    "    print('Score: ',lr.score(XtestS, y_test))\n",
    "    preds = lr.predict(XtestS)\n",
    "    MAElr.append(mean_absolute_error(y_test, preds))\n",
    "    MSElr.append(mean_squared_error(y_test, preds))\n",
    "    print('MAE before feature selection: ',mean_absolute_error(y_test, preds))\n",
    "    \n",
    "    yhat = lr.predict(X_train)\n",
    "    residuals = yhat - y_train\n",
    "    plt.figure()\n",
    "    plt.hist(residuals.values)\n",
    "    plt.title('Residuals for week '+str(w))\n",
    "    plt.grid()\n",
    "    plt.show()\n",
    "    \n",
    "    \n",
    "    selector = RFECV(lr, step=1, cv=10)\n",
    "    selector = selector.fit(XtrainT, y_train)\n",
    "    print(selector.support_)\n",
    "    print(selector.ranking_)\n",
    "    X_new = selector.transform(XtrainT)\n",
    "    lr.fit(X_new,y_train)\n",
    "    preds = lr.predict(selector.transform(XtestT))\n",
    "    print('MAE after feature selection: ',mean_absolute_error(y_test, preds))\n",
    "    MAElrA.append(mean_absolute_error(y_test, preds))\n",
    "    MSElrA.append(mean_squared_error(y_test, preds))\n",
    "\n",
    "    # random forest\n",
    "    rf = RandomForestRegressor(n_estimators = 400)\n",
    "    rf.fit(XtrainS, y_train)\n",
    "    preds = rf.predict(XtestS)\n",
    "    MAErf.append(mean_absolute_error(y_test, preds))\n",
    "    MSErf.append(mean_squared_error(y_test, preds))"
   ]
  },
  {
   "cell_type": "code",
   "execution_count": 22,
   "metadata": {
    "ExecuteTime": {
     "end_time": "2019-12-08T23:00:08.839577Z",
     "start_time": "2019-12-08T23:00:08.835960Z"
    }
   },
   "outputs": [],
   "source": [
    "# lr.score(XtestS, y_test)"
   ]
  },
  {
   "cell_type": "code",
   "execution_count": 23,
   "metadata": {
    "ExecuteTime": {
     "end_time": "2019-12-08T23:00:08.929522Z",
     "start_time": "2019-12-08T23:00:08.842677Z"
    },
    "scrolled": true
   },
   "outputs": [
    {
     "name": "stdout",
     "output_type": "stream",
     "text": [
      "RF:  [5.515254310344829, 5.813055970149255, 5.583762096774193, 4.893034090909091, 4.495939655172413, 4.956718181818182, 5.312671052631579, 5.180923728813561, 4.935356557377053, 5.903920833333333]\n",
      "RF:  [45.63358806788796, 54.51208838339555, 43.86263736592745, 35.65788257291666, 28.25723991810344, 49.36911802954544, 42.15443599451755, 48.5864399067797, 50.59390893954922, 64.16050773229166]\n",
      "LR:  [5.457318596348154, 5.679330243030845, 5.17116454623304, 4.998274726404131, 4.646994330971941, 5.020033643049366, 5.092322199660204, 5.069551566021095, 4.854885110834987, 5.831999553951059]\n",
      "LR:  [46.05258431315314, 51.32279467687715, 38.179595822374644, 34.90525643841751, 29.717268307940103, 46.88109878655553, 36.845408163145294, 47.15852466849845, 46.46202626961771, 65.2116311533288]\n",
      "LRAdjusted:  [5.504317694394726, 5.6572956945931505, 5.148482276166836, 5.039404968425284, 4.676028393993015, 5.125828760898994, 5.038298534420594, 5.09088967278228, 4.918705136582877, 5.8083609156853315]\n",
      "LRAdjusted:  [46.937103859416034, 51.583956636985256, 37.53844404885945, 35.41260934614809, 30.331059608192724, 48.78897706200494, 36.5474848778342, 47.19734627650197, 46.81032553092399, 64.85104993196644]\n",
      "baseline:  [7.241379310344828, 8.338805970149252, 8.32258064516129, 5.8590909090909085, 6.1689655172413795, 6.925454545454544, 7.126315789473685, 6.63220338983051, 6.41967213114754, 5.84]\n",
      "baseline:  [83.71034482758623, 115.00402985074626, 104.31096774193549, 55.465, 67.77620689655171, 83.12527272727272, 83.55894736842106, 76.7262711864407, 90.39737704918034, 70.68833333333332]\n",
      "ARMA:  []\n",
      "ARMA:  []\n"
     ]
    }
   ],
   "source": [
    "print(\"RF: \",MAErf)\n",
    "print(\"RF: \", MSErf)\n",
    "print(\"LR: \",MAElr)\n",
    "print(\"LR: \", MSElr)\n",
    "print(\"LRAdjusted: \",MAElrA)\n",
    "print(\"LRAdjusted: \", MSElrA)\n",
    "print(\"baseline: \",MAEbase)\n",
    "print(\"baseline: \", MSEbase)\n",
    "print(\"ARMA: \",MAEarma)\n",
    "print('ARMA: ', MSEarma)"
   ]
  },
  {
   "cell_type": "markdown",
   "metadata": {},
   "source": [
    "Plot"
   ]
  },
  {
   "cell_type": "code",
   "execution_count": 24,
   "metadata": {
    "ExecuteTime": {
     "end_time": "2019-12-08T23:00:09.629507Z",
     "start_time": "2019-12-08T23:00:08.933334Z"
    }
   },
   "outputs": [
    {
     "data": {
      "text/plain": [
       "[<matplotlib.lines.Line2D at 0x7f081ad25cc0>]"
      ]
     },
     "execution_count": 24,
     "metadata": {},
     "output_type": "execute_result"
    },
    {
     "data": {
      "image/png": "[encoded data removed]",
      "text/plain": [
       "<Figure size 1008x576 with 4 Axes>"
      ]
     },
     "metadata": {
      "needs_background": "light"
     },
     "output_type": "display_data"
    }
   ],
   "source": [
    "fig, axs = plt.subplots(2,2, figsize=(14,8))\n",
    "weeks = range(1,11)\n",
    "axs[0,0].plot(weeks, MAErf)\n",
    "axs[0,0].plot(weeks, MAElr)\n",
    "axs[0,0].plot(weeks, MAEbase)\n",
    "# no need to include unless you're curious:\n",
    "# axs[0,0].plot(weeks, MAElrA)\n",
    "axs[0,1].plot(weeks, MSErf)\n",
    "axs[0,1].plot(weeks, MSElr)\n",
    "axs[0,1].plot(weeks, MSEbase)\n",
    "# no need to include unless you're curious:\n",
    "# axs[0,1].plot(weeks, MSElrA)"
   ]
  },
  {
   "cell_type": "markdown",
   "metadata": {},
   "source": [
    "Helpful Functions"
   ]
  },
  {
   "cell_type": "code",
   "execution_count": null,
   "metadata": {
    "ExecuteTime": {
     "end_time": "2019-12-08T22:18:12.823591Z",
     "start_time": "2019-12-08T22:16:16.894Z"
    }
   },
   "outputs": [],
   "source": [
    "def get_players_thatweek(all_games, all_players, position, year, game_number, subset_position, specific_players=None):\n",
    "    if specific_players != None:\n",
    "        ids = specific_players\n",
    "    else:\n",
    "        ids = all_players[all_players.position == position].index\n",
    "        \n",
    "    # return pandas df with player_id as index and player name and log draft position columns\n",
    "    games = all_games.loc[ids]\n",
    "    stats = subset_position[position][0]\n",
    "    sum_threshold = subset_position[position][1]\n",
    "    # only take RBs with 5 rush attempts or receiving targets (>= sum_threshold)\n",
    "    worth_predicting = games[(games.year == year) & \n",
    "                             (games.game_number == game_number) &\n",
    "                             (np.sum(games[stats], axis=1) >= sum_threshold)]\n",
    "    ids = worth_predicting.index\n",
    "    for_df = all_players.loc[ids, ['name', 'draft_position']]\n",
    "    # players that weren't drafted give them position of last pick of draft\n",
    "    for_df.fillna(255, inplace=True)\n",
    "    for_df['log_draft_position'] = np.log(for_df.draft_position)\n",
    "    return pd.DataFrame(data=for_df)"
   ]
  },
  {
   "cell_type": "code",
   "execution_count": null,
   "metadata": {
    "ExecuteTime": {
     "end_time": "2019-12-08T22:18:12.825087Z",
     "start_time": "2019-12-08T22:16:16.898Z"
    }
   },
   "outputs": [],
   "source": [
    "half_ppr = {\n",
    "    'rushing_yards': 0.1,\n",
    "    'rushing_touchdowns': 6,\n",
    "    'receiving_receptions': 0.5,\n",
    "    'receiving_yards': 0.1,\n",
    "    'receiving_touchdowns': 6\n",
    "}"
   ]
  },
  {
   "cell_type": "code",
   "execution_count": null,
   "metadata": {
    "ExecuteTime": {
     "end_time": "2019-12-08T22:18:12.826629Z",
     "start_time": "2019-12-08T22:16:16.900Z"
    }
   },
   "outputs": [],
   "source": [
    "# subset RB position by choosing only RBs with at least 3 fantasy points in previous game\n",
    "subset_position = {\n",
    "    'RB': [['rushing_attempts', 'receiving_targets'], 5.0],\n",
    "    'WR': [['rushing_attempts', 'receiving_targets'], 5.0],\n",
    "    'QB': [['passing_attempts'], 10.0]\n",
    "}"
   ]
  },
  {
   "cell_type": "code",
   "execution_count": null,
   "metadata": {
    "ExecuteTime": {
     "end_time": "2019-12-08T22:18:12.828246Z",
     "start_time": "2019-12-08T22:16:16.902Z"
    }
   },
   "outputs": [],
   "source": [
    "def get_features_response_ARMA(players, all_games, year, gameNumber, points_dict):\n",
    "    games = all_games.loc[players.index]\n",
    "    \n",
    "    # compute fpts for each row\n",
    "    games['fpts'] = games['game_number']*0\n",
    "    for stat, value in zip(points_dict.keys(), points_dict.values()):\n",
    "        games['fpts'] = games['fpts'] + games[stat]*value\n",
    "\n",
    "    prev_years = games[(games.year < year) &\n",
    "                       (games.game_number <= 16)]\n",
    "    current_year = games[(games.year == year) &\n",
    "                         (games.game_number <= gameNumber)]\n",
    "    next_game = games[(games.year == year) &\n",
    "                     (games.game_number == gameNumber+1)]\n",
    "    \n",
    "    df = pd.concat((prev_years, current_year))\n",
    "    df.sort_values(by=['player_id', 'year', 'game_number'], axis=0,\n",
    "                   ascending=False, inplace=True)\n",
    "    # group dataframe by index\n",
    "    df = df.groupby(df.index)\n",
    "    \n",
    "    past_16 = df.nth(list(range(0,16))).fpts\n",
    "    weeks = df.nth(list(range(0,16))).game_number\n",
    "    years = df.nth(list(range(0,16))).year\n",
    "    \n",
    "    # get response variable, the next game fantasy points \n",
    "    resp = next_game['fpts']\n",
    "\n",
    "    for_return = pd.concat([past_16, years, weeks], axis=1)\n",
    "    for_return.sort_values(by=['player_id', 'year', 'game_number'], axis=0, ascending=False, inplace=True)\n",
    "    resp = resp.sort_index(ascending=False)\n",
    "    return for_return, resp"
   ]
  },
  {
   "cell_type": "code",
   "execution_count": null,
   "metadata": {},
   "outputs": [],
   "source": []
  }
 ],
 "metadata": {
  "kernelspec": {
   "display_name": "Python 3",
   "language": "python",
   "name": "python3"
  },
  "language_info": {
   "codemirror_mode": {
    "name": "ipython",
    "version": 3
   },
   "file_extension": ".py",
   "mimetype": "text/x-python",
   "name": "python",
   "nbconvert_exporter": "python",
   "pygments_lexer": "ipython3",
   "version": "3.7.3"
  }
 },
 "nbformat": 4,
 "nbformat_minor": 2
}
