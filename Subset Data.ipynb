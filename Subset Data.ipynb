{
 "cells": [
  {
   "cell_type": "code",
   "execution_count": 1,
   "metadata": {},
   "outputs": [],
   "source": [
    "import pandas as pd"
   ]
  },
  {
   "cell_type": "code",
   "execution_count": 51,
   "metadata": {},
   "outputs": [],
   "source": [
    "games = pd.read_csv('nfl-football-player-stats/games_1995.csv')"
   ]
  },
  {
   "cell_type": "code",
   "execution_count": 59,
   "metadata": {},
   "outputs": [],
   "source": [
    "players = pd.read_csv('nfl-football-player-stats/players_1995.csv')"
   ]
  },
  {
   "cell_type": "code",
   "execution_count": 60,
   "metadata": {},
   "outputs": [
    {
     "name": "stdout",
     "output_type": "stream",
     "text": [
      "Index(['age', 'date', 'defense_interception_touchdowns',\n",
      "       'defense_interception_yards', 'defense_interceptions', 'defense_sacks',\n",
      "       'defense_safeties', 'defense_tackle_assists', 'defense_tackles',\n",
      "       'field_goal_attempts', 'field_goal_makes', 'game_location',\n",
      "       'game_number', 'game_won', 'kick_return_attempts',\n",
      "       'kick_return_touchdowns', 'kick_return_yards', 'opponent',\n",
      "       'opponent_score', 'passing_attempts', 'passing_completions',\n",
      "       'passing_interceptions', 'passing_rating', 'passing_sacks',\n",
      "       'passing_sacks_yards_lost', 'passing_touchdowns', 'passing_yards',\n",
      "       'player_id', 'player_team_score', 'point_after_attemps',\n",
      "       'point_after_makes', 'punt_return_attempts', 'punt_return_touchdowns',\n",
      "       'punt_return_yards', 'punting_attempts', 'punting_blocked',\n",
      "       'punting_yards', 'receiving_receptions', 'receiving_targets',\n",
      "       'receiving_touchdowns', 'receiving_yards', 'rushing_attempts',\n",
      "       'rushing_touchdowns', 'rushing_yards', 'team', 'year'],\n",
      "      dtype='object')\n",
      "Index(['birth_date', 'birth_place', 'college', 'current_salary',\n",
      "       'current_team', 'death_date', 'draft_position', 'draft_round',\n",
      "       'draft_team', 'draft_year', 'height', 'high_school',\n",
      "       'hof_induction_year', 'name', 'player_id', 'position', 'weight'],\n",
      "      dtype='object')\n"
     ]
    }
   ],
   "source": [
    "print(games.columns)\n",
    "print(players.columns)"
   ]
  },
  {
   "cell_type": "code",
   "execution_count": 66,
   "metadata": {},
   "outputs": [],
   "source": [
    "rb_ids = players[players['position'] == 'RB']['player_id']"
   ]
  },
  {
   "cell_type": "code",
   "execution_count": 67,
   "metadata": {},
   "outputs": [],
   "source": [
    "rb_games = games[games['player_id'].isin(rb_ids)]"
   ]
  },
  {
   "cell_type": "code",
   "execution_count": 77,
   "metadata": {},
   "outputs": [
    {
     "name": "stdout",
     "output_type": "stream",
     "text": [
      "(34742, 46)\n",
      "(27152, 46)\n"
     ]
    }
   ],
   "source": [
    "print(rb_games.shape)\n",
    "rb_action = rb_games[(rb_games['rushing_attempts'] > 0) | (rb_games['receiving_targets'] > 0)]\n",
    "print(rb_action.shape)"
   ]
  },
  {
   "cell_type": "code",
   "execution_count": null,
   "metadata": {},
   "outputs": [],
   "source": []
  }
 ],
 "metadata": {
  "kernelspec": {
   "display_name": "Python 3",
   "language": "python",
   "name": "python3"
  },
  "language_info": {
   "codemirror_mode": {
    "name": "ipython",
    "version": 3
   },
   "file_extension": ".py",
   "mimetype": "text/x-python",
   "name": "python",
   "nbconvert_exporter": "python",
   "pygments_lexer": "ipython3",
   "version": "3.6.4"
  }
 },
 "nbformat": 4,
 "nbformat_minor": 2
}
